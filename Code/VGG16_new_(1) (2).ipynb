{
  "cells": [
    {
      "cell_type": "markdown",
      "metadata": {
        "id": "HeydgIOS45VB"
      },
      "source": [
        "# Package"
      ]
    },
    {
      "cell_type": "code",
      "execution_count": null,
      "metadata": {
        "colab": {
          "base_uri": "https://localhost:8080/"
        },
        "id": "qWURKiD2HxOC",
        "outputId": "de03bab2-b991-4cbe-959a-d6bbbea39aa8"
      },
      "outputs": [
        {
          "output_type": "stream",
          "name": "stdout",
          "text": [
            "Mounted at /content/drive\n"
          ]
        }
      ],
      "source": [
        "from google.colab import drive\n",
        "drive.mount('/content/drive')\n",
        "\n",
        "import os\n",
        "import keras\n",
        "import shutil\n",
        "import numpy as np\n",
        "import tensorflow as tf\n",
        "from keras.preprocessing.image import ImageDataGenerator\n",
        "from tensorflow.keras.applications.vgg16 import VGG16"
      ]
    },
    {
      "cell_type": "markdown",
      "metadata": {
        "id": "MEql_rhI4_IO"
      },
      "source": [
        "# Create Dataset"
      ]
    },
    {
      "cell_type": "code",
      "execution_count": null,
      "metadata": {
        "id": "tEAv327SNzt6"
      },
      "outputs": [],
      "source": [
        "path = '/content/drive/MyDrive/566/final/The IQ-OTHNCCD lung cancer dataset'\n",
        "norm = '/content/drive/MyDrive/566/final/The IQ-OTHNCCD lung cancer dataset/Normal cases'\n",
        "beng = '/content/drive/MyDrive/566/final/The IQ-OTHNCCD lung cancer dataset/Bengin cases'\n",
        "mali = '/content/drive/MyDrive/566/final/The IQ-OTHNCCD lung cancer dataset/Malignant cases'"
      ]
    },
    {
      "cell_type": "code",
      "execution_count": null,
      "metadata": {
        "colab": {
          "base_uri": "https://localhost:8080/"
        },
        "id": "w-PgjMj4Tfsk",
        "outputId": "0fbc13e8-ac18-4db0-d010-a00d0caf17e2"
      },
      "outputs": [
        {
          "output_type": "stream",
          "name": "stdout",
          "text": [
            "total normal images: 416\n",
            "total begin images: 120\n",
            "total malignant images: 561\n"
          ]
        }
      ],
      "source": [
        "print('total normal images:', len(os.listdir(norm)))\n",
        "print('total begin images:', len(os.listdir(beng)))\n",
        "print('total malignant images:', len(os.listdir(mali)))"
      ]
    },
    {
      "cell_type": "code",
      "execution_count": null,
      "metadata": {
        "colab": {
          "base_uri": "https://localhost:8080/"
        },
        "id": "FreUtGiiXU1M",
        "outputId": "459a3c6b-ce57-4338-c068-acdeb862e5b2"
      },
      "outputs": [
        {
          "output_type": "stream",
          "name": "stdout",
          "text": [
            "['malignant', 'normal', 'begin']\n",
            "['begin', 'malignant', 'normal']\n",
            "['malignant', 'begin', 'normal']\n"
          ]
        }
      ],
      "source": [
        "train_dir='/content/drive/MyDrive/lung_cancer_dataset/train'\n",
        "print(os.listdir(train_dir))\n",
        "valid_dir='/content/drive/MyDrive/lung_cancer_dataset/validation'\n",
        "print(os.listdir(valid_dir))\n",
        "test_dir='/content/drive/MyDrive/lung_cancer_dataset/test'\n",
        "print(os.listdir(test_dir))"
      ]
    },
    {
      "cell_type": "code",
      "execution_count": null,
      "metadata": {
        "colab": {
          "base_uri": "https://localhost:8080/"
        },
        "id": "M_ahTS9aZatV",
        "outputId": "f6048aa2-a7de-42ef-c298-d1f6ab6e467a"
      },
      "outputs": [
        {
          "output_type": "stream",
          "name": "stdout",
          "text": [
            "/content/drive/MyDrive/lung_cancer_dataset/train/malignant\n",
            "/content/drive/MyDrive/lung_cancer_dataset/train/normal\n",
            "/content/drive/MyDrive/lung_cancer_dataset/train/begin\n",
            "\n",
            "\n",
            "/content/drive/MyDrive/lung_cancer_dataset/test/malignant\n",
            "/content/drive/MyDrive/lung_cancer_dataset/test/begin\n",
            "/content/drive/MyDrive/lung_cancer_dataset/test/normal\n",
            "\n",
            "\n",
            "/content/drive/MyDrive/lung_cancer_dataset/validation/begin\n",
            "/content/drive/MyDrive/lung_cancer_dataset/validation/malignant\n",
            "/content/drive/MyDrive/lung_cancer_dataset/validation/normal\n"
          ]
        },
        {
          "output_type": "execute_result",
          "data": {
            "text/plain": [
              "[None, None, None]"
            ]
          },
          "metadata": {},
          "execution_count": 5
        }
      ],
      "source": [
        "train_subfolders=[f'{train_dir}/{folder}' for folder in os.listdir(train_dir)]\n",
        "[print(subfolder) for subfolder in train_subfolders]\n",
        "\n",
        "test_subfolders=[f'{test_dir}/{folder}' for folder in os.listdir(test_dir)]\n",
        "print('\\n')\n",
        "[print(subfolder) for subfolder in test_subfolders];\n",
        "\n",
        "valid_subfolders=[f'{valid_dir}/{folder}' for folder in os.listdir(valid_dir)]\n",
        "print('\\n')\n",
        "[print(subfolder) for subfolder in valid_subfolders]"
      ]
    },
    {
      "cell_type": "code",
      "execution_count": null,
      "metadata": {
        "colab": {
          "base_uri": "https://localhost:8080/"
        },
        "id": "TYEBJVKWgWsB",
        "outputId": "e8b79e7d-180a-41bb-f789-5cb81f143a1e"
      },
      "outputs": [
        {
          "output_type": "stream",
          "name": "stdout",
          "text": [
            "training:  292\n",
            "validation:  41\n",
            "testing:  83\n"
          ]
        }
      ],
      "source": [
        "#70%train 20%test 10%valid for normal\n",
        "orig_path=norm\n",
        "orig_files=os.listdir(orig_path)\n",
        "training=orig_files[0:292]\n",
        "for file in training:\n",
        "    shutil.copy2(f'/content/drive/MyDrive/566/final/The IQ-OTHNCCD lung cancer dataset/Normal cases/{file}','/content/drive/MyDrive/566/final/lung_cancer_dataset/train/normal')\n",
        "validation=orig_files[292:333]\n",
        "for file in validation:\n",
        "    shutil.copy2(f'/content/drive/MyDrive/566/final/The IQ-OTHNCCD lung cancer dataset/Normal cases/{file}','/content/drive/MyDrive/566/final/lung_cancer_dataset/test/normal')\n",
        "testing=orig_files[333:]\n",
        "for file in testing:\n",
        "    shutil.copy2(f'/content/drive/MyDrive/566/final/The IQ-OTHNCCD lung cancer dataset/Normal cases/{file}','/content/drive/MyDrive/566/final/lung_cancer_dataset/validation/normal')   \n",
        "\n",
        "print('training: ', len(training))\n",
        "print('validation: ',len(validation))\n",
        "print('testing: ',len(testing))"
      ]
    },
    {
      "cell_type": "code",
      "execution_count": null,
      "metadata": {
        "colab": {
          "base_uri": "https://localhost:8080/"
        },
        "id": "YVjiwPg_fZMB",
        "outputId": "37645aa6-70b6-4b71-b43d-6e7131f20837"
      },
      "outputs": [
        {
          "output_type": "stream",
          "name": "stdout",
          "text": [
            "training:  84\n",
            "validation:  25\n",
            "testing:  11\n"
          ]
        }
      ],
      "source": [
        "#70%train 20%test 10%valid for begin\n",
        "orig_path=beng\n",
        "orig_files=os.listdir(orig_path)\n",
        "training=orig_files[0:84]\n",
        "for file in training:\n",
        "    shutil.copy2(f'/content/drive/MyDrive/566/final/The IQ-OTHNCCD lung cancer dataset/Bengin cases/{file}','/content/drive/MyDrive/566/final/lung_cancer_dataset/train/begin')\n",
        "validation=orig_files[84:109]\n",
        "for file in validation:\n",
        "    shutil.copy2(f'/content/drive/MyDrive/566/final/The IQ-OTHNCCD lung cancer dataset/Bengin cases/{file}','/content/drive/MyDrive/566/final/lung_cancer_dataset/test/begin')\n",
        "testing=orig_files[109:]\n",
        "for file in testing:\n",
        "    shutil.copy2(f'/content/drive/MyDrive/566/final/The IQ-OTHNCCD lung cancer dataset/Bengin cases/{file}','/content/drive/MyDrive/566/final/lung_cancer_dataset/validation/begin')   \n",
        "\n",
        "print('training: ', len(training))\n",
        "print('validation: ',len(validation))\n",
        "print('testing: ',len(testing))"
      ]
    },
    {
      "cell_type": "code",
      "execution_count": null,
      "metadata": {
        "colab": {
          "base_uri": "https://localhost:8080/",
          "height": 402
        },
        "id": "9po-QDYjX1-y",
        "outputId": "834c8529-8ab8-491d-c69d-1f9012203a2c"
      },
      "outputs": [
        {
          "output_type": "error",
          "ename": "KeyboardInterrupt",
          "evalue": "ignored",
          "traceback": [
            "\u001b[0;31m---------------------------------------------------------------------------\u001b[0m",
            "\u001b[0;31mKeyboardInterrupt\u001b[0m                         Traceback (most recent call last)",
            "\u001b[0;32m<ipython-input-8-7a1fc2186179>\u001b[0m in \u001b[0;36m<module>\u001b[0;34m\u001b[0m\n\u001b[1;32m      5\u001b[0m \u001b[0mtraining\u001b[0m\u001b[0;34m=\u001b[0m\u001b[0morig_files\u001b[0m\u001b[0;34m[\u001b[0m\u001b[0;36m0\u001b[0m\u001b[0;34m:\u001b[0m\u001b[0;36m393\u001b[0m\u001b[0;34m]\u001b[0m\u001b[0;34m\u001b[0m\u001b[0;34m\u001b[0m\u001b[0m\n\u001b[1;32m      6\u001b[0m \u001b[0;32mfor\u001b[0m \u001b[0mfile\u001b[0m \u001b[0;32min\u001b[0m \u001b[0mtraining\u001b[0m\u001b[0;34m:\u001b[0m\u001b[0;34m\u001b[0m\u001b[0;34m\u001b[0m\u001b[0m\n\u001b[0;32m----> 7\u001b[0;31m     \u001b[0mshutil\u001b[0m\u001b[0;34m.\u001b[0m\u001b[0mcopy2\u001b[0m\u001b[0;34m(\u001b[0m\u001b[0;34mf'/content/drive/MyDrive/566/final/The IQ-OTHNCCD lung cancer dataset/Malignant cases/{file}'\u001b[0m\u001b[0;34m,\u001b[0m\u001b[0;34m'/content/drive/MyDrive/566/final/lung_cancer_dataset/train/malignant'\u001b[0m\u001b[0;34m)\u001b[0m\u001b[0;34m\u001b[0m\u001b[0;34m\u001b[0m\u001b[0m\n\u001b[0m\u001b[1;32m      8\u001b[0m \u001b[0mvalidation\u001b[0m\u001b[0;34m=\u001b[0m\u001b[0morig_files\u001b[0m\u001b[0;34m[\u001b[0m\u001b[0;36m393\u001b[0m\u001b[0;34m:\u001b[0m\u001b[0;36m506\u001b[0m\u001b[0;34m]\u001b[0m\u001b[0;34m\u001b[0m\u001b[0;34m\u001b[0m\u001b[0m\n\u001b[1;32m      9\u001b[0m \u001b[0;32mfor\u001b[0m \u001b[0mfile\u001b[0m \u001b[0;32min\u001b[0m \u001b[0mvalidation\u001b[0m\u001b[0;34m:\u001b[0m\u001b[0;34m\u001b[0m\u001b[0;34m\u001b[0m\u001b[0m\n",
            "\u001b[0;32m/usr/lib/python3.7/shutil.py\u001b[0m in \u001b[0;36mcopy2\u001b[0;34m(src, dst, follow_symlinks)\u001b[0m\n\u001b[1;32m    264\u001b[0m     \u001b[0;32mif\u001b[0m \u001b[0mos\u001b[0m\u001b[0;34m.\u001b[0m\u001b[0mpath\u001b[0m\u001b[0;34m.\u001b[0m\u001b[0misdir\u001b[0m\u001b[0;34m(\u001b[0m\u001b[0mdst\u001b[0m\u001b[0;34m)\u001b[0m\u001b[0;34m:\u001b[0m\u001b[0;34m\u001b[0m\u001b[0;34m\u001b[0m\u001b[0m\n\u001b[1;32m    265\u001b[0m         \u001b[0mdst\u001b[0m \u001b[0;34m=\u001b[0m \u001b[0mos\u001b[0m\u001b[0;34m.\u001b[0m\u001b[0mpath\u001b[0m\u001b[0;34m.\u001b[0m\u001b[0mjoin\u001b[0m\u001b[0;34m(\u001b[0m\u001b[0mdst\u001b[0m\u001b[0;34m,\u001b[0m \u001b[0mos\u001b[0m\u001b[0;34m.\u001b[0m\u001b[0mpath\u001b[0m\u001b[0;34m.\u001b[0m\u001b[0mbasename\u001b[0m\u001b[0;34m(\u001b[0m\u001b[0msrc\u001b[0m\u001b[0;34m)\u001b[0m\u001b[0;34m)\u001b[0m\u001b[0;34m\u001b[0m\u001b[0;34m\u001b[0m\u001b[0m\n\u001b[0;32m--> 266\u001b[0;31m     \u001b[0mcopyfile\u001b[0m\u001b[0;34m(\u001b[0m\u001b[0msrc\u001b[0m\u001b[0;34m,\u001b[0m \u001b[0mdst\u001b[0m\u001b[0;34m,\u001b[0m \u001b[0mfollow_symlinks\u001b[0m\u001b[0;34m=\u001b[0m\u001b[0mfollow_symlinks\u001b[0m\u001b[0;34m)\u001b[0m\u001b[0;34m\u001b[0m\u001b[0;34m\u001b[0m\u001b[0m\n\u001b[0m\u001b[1;32m    267\u001b[0m     \u001b[0mcopystat\u001b[0m\u001b[0;34m(\u001b[0m\u001b[0msrc\u001b[0m\u001b[0;34m,\u001b[0m \u001b[0mdst\u001b[0m\u001b[0;34m,\u001b[0m \u001b[0mfollow_symlinks\u001b[0m\u001b[0;34m=\u001b[0m\u001b[0mfollow_symlinks\u001b[0m\u001b[0;34m)\u001b[0m\u001b[0;34m\u001b[0m\u001b[0;34m\u001b[0m\u001b[0m\n\u001b[1;32m    268\u001b[0m     \u001b[0;32mreturn\u001b[0m \u001b[0mdst\u001b[0m\u001b[0;34m\u001b[0m\u001b[0;34m\u001b[0m\u001b[0m\n",
            "\u001b[0;32m/usr/lib/python3.7/shutil.py\u001b[0m in \u001b[0;36mcopyfile\u001b[0;34m(src, dst, follow_symlinks)\u001b[0m\n\u001b[1;32m    119\u001b[0m     \u001b[0;32melse\u001b[0m\u001b[0;34m:\u001b[0m\u001b[0;34m\u001b[0m\u001b[0;34m\u001b[0m\u001b[0m\n\u001b[1;32m    120\u001b[0m         \u001b[0;32mwith\u001b[0m \u001b[0mopen\u001b[0m\u001b[0;34m(\u001b[0m\u001b[0msrc\u001b[0m\u001b[0;34m,\u001b[0m \u001b[0;34m'rb'\u001b[0m\u001b[0;34m)\u001b[0m \u001b[0;32mas\u001b[0m \u001b[0mfsrc\u001b[0m\u001b[0;34m:\u001b[0m\u001b[0;34m\u001b[0m\u001b[0;34m\u001b[0m\u001b[0m\n\u001b[0;32m--> 121\u001b[0;31m             \u001b[0;32mwith\u001b[0m \u001b[0mopen\u001b[0m\u001b[0;34m(\u001b[0m\u001b[0mdst\u001b[0m\u001b[0;34m,\u001b[0m \u001b[0;34m'wb'\u001b[0m\u001b[0;34m)\u001b[0m \u001b[0;32mas\u001b[0m \u001b[0mfdst\u001b[0m\u001b[0;34m:\u001b[0m\u001b[0;34m\u001b[0m\u001b[0;34m\u001b[0m\u001b[0m\n\u001b[0m\u001b[1;32m    122\u001b[0m                 \u001b[0mcopyfileobj\u001b[0m\u001b[0;34m(\u001b[0m\u001b[0mfsrc\u001b[0m\u001b[0;34m,\u001b[0m \u001b[0mfdst\u001b[0m\u001b[0;34m)\u001b[0m\u001b[0;34m\u001b[0m\u001b[0;34m\u001b[0m\u001b[0m\n\u001b[1;32m    123\u001b[0m     \u001b[0;32mreturn\u001b[0m \u001b[0mdst\u001b[0m\u001b[0;34m\u001b[0m\u001b[0;34m\u001b[0m\u001b[0m\n",
            "\u001b[0;31mKeyboardInterrupt\u001b[0m: "
          ]
        }
      ],
      "source": [
        "#70%train 20%test 10%valid for malignant\n",
        "#cite: https://colab.research.google.com/drive/1eCeHFBsbuWxM1Qh-8DI6WPSyUlNwUe8Y#scrollTo=BsIGLTMLGLNQ\n",
        "orig_path=mali\n",
        "orig_files=os.listdir(orig_path)\n",
        "training=orig_files[0:393]\n",
        "for file in training:\n",
        "    shutil.copy2(f'/content/drive/MyDrive/566/final/The IQ-OTHNCCD lung cancer dataset/Malignant cases/{file}','/content/drive/MyDrive/566/final/lung_cancer_dataset/train/malignant')\n",
        "validation=orig_files[393:506]\n",
        "for file in validation:\n",
        "    shutil.copy2(f'/content/drive/MyDrive/566/final/The IQ-OTHNCCD lung cancer dataset/Malignant cases/{file}','/content/drive/MyDrive/566/final/lung_cancer_dataset/test/malignant')\n",
        "testing=orig_files[506:]\n",
        "for file in testing:\n",
        "    shutil.copy2(f'/content/drive/MyDrive/566/final/The IQ-OTHNCCD lung cancer dataset/Malignant cases/{file}','/content/drive/MyDrive/566/final/lung_cancer_dataset/validation/malignant')   \n",
        "\n",
        "print('training: ', len(training))\n",
        "print('validation: ',len(validation))\n",
        "print('testing: ',len(testing))"
      ]
    },
    {
      "cell_type": "code",
      "execution_count": null,
      "metadata": {
        "id": "AK-Hgj8OVMdo"
      },
      "outputs": [],
      "source": [
        "train_datagen = ImageDataGenerator(rescale = 1./255,validation_split = 0.2,                         \n",
        "        rotation_range=5,\n",
        "        width_shift_range=0.2,\n",
        "        height_shift_range=0.2,\n",
        "        shear_range=0.2,\n",
        "        horizontal_flip=True,\n",
        "        vertical_flip=True,\n",
        "        fill_mode='nearest')\n",
        "valid_datagen = ImageDataGenerator(rescale = 1./255,validation_split = 0.2)\n",
        "test_datagen = ImageDataGenerator(rescale = 1./255)"
      ]
    },
    {
      "cell_type": "code",
      "execution_count": null,
      "metadata": {
        "id": "F59a2S8jcx2C"
      },
      "outputs": [],
      "source": [
        "valid_d = valid_datagen.flow_from_directory(\n",
        "    valid_dir,\n",
        "    target_size = (224,224),\n",
        "    batch_size = 64,\n",
        "    class_mode = 'categorical',\n",
        "    shuffle=True\n",
        ")"
      ]
    },
    {
      "cell_type": "code",
      "execution_count": null,
      "metadata": {
        "id": "wm6OZgqAbFvQ"
      },
      "outputs": [],
      "source": [
        "train_d = train_datagen.flow_from_directory(\n",
        "    train_dir,\n",
        "    target_size = (224,224),\n",
        "    batch_size = 64,\n",
        "    class_mode = 'categorical',\n",
        "    shuffle=True\n",
        ")"
      ]
    },
    {
      "cell_type": "code",
      "execution_count": null,
      "metadata": {
        "id": "OUAsUfduc5u5"
      },
      "outputs": [],
      "source": [
        "test_d = test_datagen.flow_from_directory(\n",
        "    test_dir,\n",
        "    target_size = (224,224),\n",
        "    batch_size = 64,\n",
        "    class_mode = 'categorical',\n",
        "    shuffle=True\n",
        ")"
      ]
    },
    {
      "cell_type": "markdown",
      "metadata": {
        "id": "24fNRga_5IzS"
      },
      "source": [
        "# Model"
      ]
    },
    {
      "cell_type": "code",
      "execution_count": null,
      "metadata": {
        "id": "8XePkkiYaneD"
      },
      "outputs": [],
      "source": [
        "base_model = tf.keras.applications.VGG16(input_shape=(224,224,3),include_top=False,weights=\"imagenet\")"
      ]
    },
    {
      "cell_type": "code",
      "execution_count": null,
      "metadata": {
        "id": "1N-KabVBdoY5"
      },
      "outputs": [],
      "source": [
        "import tensorflow as tf\n",
        "from tensorflow import keras\n",
        "from tensorflow.keras import layers\n",
        "from keras.models import Sequential\n",
        "from tensorflow.keras.layers import InputLayer, BatchNormalization, Dropout, Flatten, Dense, Activation, MaxPool2D, Conv2D\n",
        "\n",
        "VGG16_model=Sequential()\n",
        "VGG16_model.add(base_model)\n",
        "VGG16_model.add(Dropout(0.5))\n",
        "VGG16_model.add(Flatten())\n",
        "VGG16_model.add(BatchNormalization())\n",
        "VGG16_model.add(Dense(64,kernel_initializer='he_uniform'))\n",
        "VGG16_model.add(BatchNormalization())\n",
        "VGG16_model.add(Activation('relu'))\n",
        "VGG16_model.add(Dropout(0.5))\n",
        "VGG16_model.add(Dense(64,kernel_initializer='he_uniform'))\n",
        "VGG16_model.add(BatchNormalization())\n",
        "VGG16_model.add(Activation('relu'))\n",
        "VGG16_model.add(Dense(3,activation='softmax'))"
      ]
    },
    {
      "cell_type": "code",
      "execution_count": null,
      "metadata": {
        "colab": {
          "base_uri": "https://localhost:8080/"
        },
        "id": "yf1t0G_JKsOm",
        "outputId": "51f961d9-4e30-4a9b-e0b5-f9dd286f0159"
      },
      "outputs": [
        {
          "output_type": "stream",
          "name": "stdout",
          "text": [
            "Model: \"sequential_2\"\n",
            "_________________________________________________________________\n",
            " Layer (type)                Output Shape              Param #   \n",
            "=================================================================\n",
            " vgg16 (Functional)          (None, 7, 7, 512)         14714688  \n",
            "                                                                 \n",
            " dropout_4 (Dropout)         (None, 7, 7, 512)         0         \n",
            "                                                                 \n",
            " flatten_2 (Flatten)         (None, 25088)             0         \n",
            "                                                                 \n",
            " batch_normalization_6 (Batc  (None, 25088)            100352    \n",
            " hNormalization)                                                 \n",
            "                                                                 \n",
            " dense_6 (Dense)             (None, 64)                1605696   \n",
            "                                                                 \n",
            " batch_normalization_7 (Batc  (None, 64)               256       \n",
            " hNormalization)                                                 \n",
            "                                                                 \n",
            " activation_4 (Activation)   (None, 64)                0         \n",
            "                                                                 \n",
            " dropout_5 (Dropout)         (None, 64)                0         \n",
            "                                                                 \n",
            " dense_7 (Dense)             (None, 64)                4160      \n",
            "                                                                 \n",
            " batch_normalization_8 (Batc  (None, 64)               256       \n",
            " hNormalization)                                                 \n",
            "                                                                 \n",
            " activation_5 (Activation)   (None, 64)                0         \n",
            "                                                                 \n",
            " dense_8 (Dense)             (None, 3)                 195       \n",
            "                                                                 \n",
            "=================================================================\n",
            "Total params: 16,425,603\n",
            "Trainable params: 16,375,171\n",
            "Non-trainable params: 50,432\n",
            "_________________________________________________________________\n"
          ]
        }
      ],
      "source": [
        "VGG16_model.summary()"
      ]
    },
    {
      "cell_type": "code",
      "execution_count": null,
      "metadata": {
        "id": "B8RGCB96PgB5"
      },
      "outputs": [],
      "source": [
        "import keras.backend as K\n",
        "def f1_score(y_true, y_pred):\n",
        "    true_positives = K.sum(K.round(K.clip(y_true * y_pred, 0, 1)))\n",
        "    possible_positives = K.sum(K.round(K.clip(y_true, 0, 1)))\n",
        "    predicted_positives = K.sum(K.round(K.clip(y_pred, 0, 1)))\n",
        "    precision = true_positives / (predicted_positives + K.epsilon())\n",
        "    recall = true_positives / (possible_positives + K.epsilon())\n",
        "    f1_val = 2*(precision*recall)/(precision+recall+K.epsilon())\n",
        "    return f1_val\n",
        "\n",
        "METRICS = [\n",
        "      tf.keras.metrics.BinaryAccuracy(name='accuracy'),\n",
        "      tf.keras.metrics.Precision(name='precision'),\n",
        "      tf.keras.metrics.Recall(name='recall'),  \n",
        "      tf.keras.metrics.AUC(name='auc'),\n",
        "        f1_score,\n",
        "]"
      ]
    },
    {
      "cell_type": "code",
      "execution_count": null,
      "metadata": {
        "id": "1sBa7w61Hfn8"
      },
      "outputs": [],
      "source": [
        "from keras.callbacks import Callback,ModelCheckpoint,ReduceLROnPlateau\n",
        "from tensorflow.keras.callbacks import EarlyStopping, ModelCheckpoint\n",
        "\n",
        "lrd = ReduceLROnPlateau(monitor = 'val_loss',patience = 5,verbose = 1,factor = 0.50, min_lr = 1e-7)\n",
        "mcp = ModelCheckpoint('Final Project-VGG16 new')"
      ]
    },
    {
      "cell_type": "code",
      "execution_count": null,
      "metadata": {
        "id": "7GUCjCHJKvm0"
      },
      "outputs": [],
      "source": [
        "from tensorflow import keras\n",
        "from keras import optimizers\n",
        "opt = keras.optimizers.Adam(learning_rate=1e-04)\n",
        "VGG16_model.compile(optimizer=opt, loss=keras.losses.categorical_crossentropy, metrics=METRICS)"
      ]
    },
    {
      "cell_type": "code",
      "execution_count": null,
      "metadata": {
        "colab": {
          "base_uri": "https://localhost:8080/"
        },
        "id": "WEHYNWCJFjnx",
        "outputId": "25ce4d68-e125-447c-fb8b-2c5bca069357"
      },
      "outputs": [
        {
          "output_type": "stream",
          "name": "stdout",
          "text": [
            "Epoch 1/50\n",
            "13/13 [==============================] - ETA: 0s - loss: 1.2942 - accuracy: 0.5917 - precision: 0.3140 - recall: 0.1899 - auc: 0.4995 - f1_score: 0.2183"
          ]
        },
        {
          "output_type": "stream",
          "name": "stderr",
          "text": [
            "WARNING:absl:Found untraced functions such as _jit_compiled_convolution_op, _jit_compiled_convolution_op, _jit_compiled_convolution_op, _jit_compiled_convolution_op, _jit_compiled_convolution_op while saving (showing 5 of 13). These functions will not be directly callable after loading.\n"
          ]
        },
        {
          "output_type": "stream",
          "name": "stdout",
          "text": [
            "\b\b\b\b\b\b\b\b\b\b\b\b\b\b\b\b\b\b\b\b\b\b\b\b\b\b\b\b\b\b\b\b\b\b\b\b\b\b\b\b\b\b\b\b\b\b\b\b\b\b\b\b\b\b\b\b\b\b\b\b\b\b\b\b\b\b\b\b\b\b\b\b\b\b\b\b\b\b\b\b\b\b\b\b\b\b\b\b\b\b\b\b\b\b\b\b\b\b\b\b\b\b\b\b\b\b\b\b\b\b\b\b\b\b\b\b\b\b\b\b\b\b\b\b\b\b\b\b\b\b\b\b\b\b\b\b\b\b\b\b\b\b\b\b\b\b\b\b\b\b\b\b\r13/13 [==============================] - 132s 10s/step - loss: 1.2942 - accuracy: 0.5917 - precision: 0.3140 - recall: 0.1899 - auc: 0.4995 - f1_score: 0.2183 - val_loss: 0.9377 - val_accuracy: 0.7508 - val_precision: 0.8462 - val_recall: 0.3084 - val_auc: 0.7561 - val_f1_score: 0.4465 - lr: 1.0000e-04\n",
            "Epoch 2/50\n",
            "13/13 [==============================] - ETA: 0s - loss: 1.2072 - accuracy: 0.6264 - precision: 0.4009 - recall: 0.2445 - auc: 0.5584 - f1_score: 0.2791"
          ]
        },
        {
          "output_type": "stream",
          "name": "stderr",
          "text": [
            "WARNING:absl:Found untraced functions such as _jit_compiled_convolution_op, _jit_compiled_convolution_op, _jit_compiled_convolution_op, _jit_compiled_convolution_op, _jit_compiled_convolution_op while saving (showing 5 of 13). These functions will not be directly callable after loading.\n"
          ]
        },
        {
          "output_type": "stream",
          "name": "stdout",
          "text": [
            "\b\b\b\b\b\b\b\b\b\b\b\b\b\b\b\b\b\b\b\b\b\b\b\b\b\b\b\b\b\b\b\b\b\b\b\b\b\b\b\b\b\b\b\b\b\b\b\b\b\b\b\b\b\b\b\b\b\b\b\b\b\b\b\b\b\b\b\b\b\b\b\b\b\b\b\b\b\b\b\b\b\b\b\b\b\b\b\b\b\b\b\b\b\b\b\b\b\b\b\b\b\b\b\b\b\b\b\b\b\b\b\b\b\b\b\b\b\b\b\b\b\b\b\b\b\b\b\b\b\b\b\b\b\b\b\b\b\b\b\b\b\b\b\b\b\b\b\b\b\b\b\b\r13/13 [==============================] - 18s 1s/step - loss: 1.2072 - accuracy: 0.6264 - precision: 0.4009 - recall: 0.2445 - auc: 0.5584 - f1_score: 0.2791 - val_loss: 1.0757 - val_accuracy: 0.7072 - val_precision: 0.5670 - val_recall: 0.5140 - val_auc: 0.6643 - val_f1_score: 0.5483 - lr: 1.0000e-04\n",
            "Epoch 3/50\n",
            "13/13 [==============================] - ETA: 0s - loss: 1.1640 - accuracy: 0.6290 - precision: 0.4052 - recall: 0.2419 - auc: 0.5798 - f1_score: 0.2796"
          ]
        },
        {
          "output_type": "stream",
          "name": "stderr",
          "text": [
            "WARNING:absl:Found untraced functions such as _jit_compiled_convolution_op, _jit_compiled_convolution_op, _jit_compiled_convolution_op, _jit_compiled_convolution_op, _jit_compiled_convolution_op while saving (showing 5 of 13). These functions will not be directly callable after loading.\n"
          ]
        },
        {
          "output_type": "stream",
          "name": "stdout",
          "text": [
            "\b\b\b\b\b\b\b\b\b\b\b\b\b\b\b\b\b\b\b\b\b\b\b\b\b\b\b\b\b\b\b\b\b\b\b\b\b\b\b\b\b\b\b\b\b\b\b\b\b\b\b\b\b\b\b\b\b\b\b\b\b\b\b\b\b\b\b\b\b\b\b\b\b\b\b\b\b\b\b\b\b\b\b\b\b\b\b\b\b\b\b\b\b\b\b\b\b\b\b\b\b\b\b\b\b\b\b\b\b\b\b\b\b\b\b\b\b\b\b\b\b\b\b\b\b\b\b\b\b\b\b\b\b\b\b\b\b\b\b\b\b\b\b\b\b\b\b\b\b\b\b\b\r13/13 [==============================] - 18s 1s/step - loss: 1.1640 - accuracy: 0.6290 - precision: 0.4052 - recall: 0.2419 - auc: 0.5798 - f1_score: 0.2796 - val_loss: 2.2569 - val_accuracy: 0.4019 - val_precision: 0.1028 - val_recall: 0.1028 - val_auc: 0.3197 - val_f1_score: 0.1050 - lr: 1.0000e-04\n",
            "Epoch 4/50\n",
            "13/13 [==============================] - ETA: 0s - loss: 1.1996 - accuracy: 0.6216 - precision: 0.3898 - recall: 0.2393 - auc: 0.5622 - f1_score: 0.2728"
          ]
        },
        {
          "output_type": "stream",
          "name": "stderr",
          "text": [
            "WARNING:absl:Found untraced functions such as _jit_compiled_convolution_op, _jit_compiled_convolution_op, _jit_compiled_convolution_op, _jit_compiled_convolution_op, _jit_compiled_convolution_op while saving (showing 5 of 13). These functions will not be directly callable after loading.\n"
          ]
        },
        {
          "output_type": "stream",
          "name": "stdout",
          "text": [
            "\b\b\b\b\b\b\b\b\b\b\b\b\b\b\b\b\b\b\b\b\b\b\b\b\b\b\b\b\b\b\b\b\b\b\b\b\b\b\b\b\b\b\b\b\b\b\b\b\b\b\b\b\b\b\b\b\b\b\b\b\b\b\b\b\b\b\b\b\b\b\b\b\b\b\b\b\b\b\b\b\b\b\b\b\b\b\b\b\b\b\b\b\b\b\b\b\b\b\b\b\b\b\b\b\b\b\b\b\b\b\b\b\b\b\b\b\b\b\b\b\b\b\b\b\b\b\b\b\b\b\b\b\b\b\b\b\b\b\b\b\b\b\b\b\b\b\b\b\b\b\b\b\r13/13 [==============================] - 18s 1s/step - loss: 1.1996 - accuracy: 0.6216 - precision: 0.3898 - recall: 0.2393 - auc: 0.5622 - f1_score: 0.2728 - val_loss: 1.9297 - val_accuracy: 0.6760 - val_precision: 0.5140 - val_recall: 0.5140 - val_auc: 0.7878 - val_f1_score: 0.5098 - lr: 1.0000e-04\n",
            "Epoch 5/50\n",
            "13/13 [==============================] - ETA: 0s - loss: 1.0338 - accuracy: 0.6840 - precision: 0.5429 - recall: 0.3290 - auc: 0.6812 - f1_score: 0.3774"
          ]
        },
        {
          "output_type": "stream",
          "name": "stderr",
          "text": [
            "WARNING:absl:Found untraced functions such as _jit_compiled_convolution_op, _jit_compiled_convolution_op, _jit_compiled_convolution_op, _jit_compiled_convolution_op, _jit_compiled_convolution_op while saving (showing 5 of 13). These functions will not be directly callable after loading.\n"
          ]
        },
        {
          "output_type": "stream",
          "name": "stdout",
          "text": [
            "\b\b\b\b\b\b\b\b\b\b\b\b\b\b\b\b\b\b\b\b\b\b\b\b\b\b\b\b\b\b\b\b\b\b\b\b\b\b\b\b\b\b\b\b\b\b\b\b\b\b\b\b\b\b\b\b\b\b\b\b\b\b\b\b\b\b\b\b\b\b\b\b\b\b\b\b\b\b\b\b\b\b\b\b\b\b\b\b\b\b\b\b\b\b\b\b\b\b\b\b\b\b\b\b\b\b\b\b\b\b\b\b\b\b\b\b\b\b\b\b\b\b\b\b\b\b\b\b\b\b\b\b\b\b\b\b\b\b\b\b\b\b\b\b\b\b\b\b\b\b\b\b\r13/13 [==============================] - 18s 1s/step - loss: 1.0338 - accuracy: 0.6840 - precision: 0.5429 - recall: 0.3290 - auc: 0.6812 - f1_score: 0.3774 - val_loss: 0.5697 - val_accuracy: 0.8598 - val_precision: 0.8523 - val_recall: 0.7009 - val_auc: 0.8977 - val_f1_score: 0.7739 - lr: 1.0000e-04\n",
            "Epoch 6/50\n",
            "13/13 [==============================] - ETA: 0s - loss: 0.8069 - accuracy: 0.7685 - precision: 0.7273 - recall: 0.4889 - auc: 0.8214 - f1_score: 0.5386"
          ]
        },
        {
          "output_type": "stream",
          "name": "stderr",
          "text": [
            "WARNING:absl:Found untraced functions such as _jit_compiled_convolution_op, _jit_compiled_convolution_op, _jit_compiled_convolution_op, _jit_compiled_convolution_op, _jit_compiled_convolution_op while saving (showing 5 of 13). These functions will not be directly callable after loading.\n"
          ]
        },
        {
          "output_type": "stream",
          "name": "stdout",
          "text": [
            "\b\b\b\b\b\b\b\b\b\b\b\b\b\b\b\b\b\b\b\b\b\b\b\b\b\b\b\b\b\b\b\b\b\b\b\b\b\b\b\b\b\b\b\b\b\b\b\b\b\b\b\b\b\b\b\b\b\b\b\b\b\b\b\b\b\b\b\b\b\b\b\b\b\b\b\b\b\b\b\b\b\b\b\b\b\b\b\b\b\b\b\b\b\b\b\b\b\b\b\b\b\b\b\b\b\b\b\b\b\b\b\b\b\b\b\b\b\b\b\b\b\b\b\b\b\b\b\b\b\b\b\b\b\b\b\b\b\b\b\b\b\b\b\b\b\b\b\b\b\b\b\b\r13/13 [==============================] - 18s 1s/step - loss: 0.8069 - accuracy: 0.7685 - precision: 0.7273 - recall: 0.4889 - auc: 0.8214 - f1_score: 0.5386 - val_loss: 0.4237 - val_accuracy: 0.9315 - val_precision: 0.8972 - val_recall: 0.8972 - val_auc: 0.9269 - val_f1_score: 0.9026 - lr: 1.0000e-04\n",
            "Epoch 7/50\n",
            "13/13 [==============================] - ETA: 0s - loss: 0.6978 - accuracy: 0.8162 - precision: 0.7959 - recall: 0.6034 - auc: 0.8766 - f1_score: 0.6322"
          ]
        },
        {
          "output_type": "stream",
          "name": "stderr",
          "text": [
            "WARNING:absl:Found untraced functions such as _jit_compiled_convolution_op, _jit_compiled_convolution_op, _jit_compiled_convolution_op, _jit_compiled_convolution_op, _jit_compiled_convolution_op while saving (showing 5 of 13). These functions will not be directly callable after loading.\n"
          ]
        },
        {
          "output_type": "stream",
          "name": "stdout",
          "text": [
            "\b\b\b\b\b\b\b\b\b\b\b\b\b\b\b\b\b\b\b\b\b\b\b\b\b\b\b\b\b\b\b\b\b\b\b\b\b\b\b\b\b\b\b\b\b\b\b\b\b\b\b\b\b\b\b\b\b\b\b\b\b\b\b\b\b\b\b\b\b\b\b\b\b\b\b\b\b\b\b\b\b\b\b\b\b\b\b\b\b\b\b\b\b\b\b\b\b\b\b\b\b\b\b\b\b\b\b\b\b\b\b\b\b\b\b\b\b\b\b\b\b\b\b\b\b\b\b\b\b\b\b\b\b\b\b\b\b\b\b\b\b\b\b\b\b\b\b\b\b\b\b\b\r13/13 [==============================] - 18s 2s/step - loss: 0.6978 - accuracy: 0.8162 - precision: 0.7959 - recall: 0.6034 - auc: 0.8766 - f1_score: 0.6322 - val_loss: 0.4665 - val_accuracy: 0.8941 - val_precision: 0.8842 - val_recall: 0.7850 - val_auc: 0.9425 - val_f1_score: 0.8429 - lr: 1.0000e-04\n",
            "Epoch 8/50\n",
            "13/13 [==============================] - ETA: 0s - loss: 0.6342 - accuracy: 0.8431 - precision: 0.8246 - recall: 0.6723 - auc: 0.9014 - f1_score: 0.6843"
          ]
        },
        {
          "output_type": "stream",
          "name": "stderr",
          "text": [
            "WARNING:absl:Found untraced functions such as _jit_compiled_convolution_op, _jit_compiled_convolution_op, _jit_compiled_convolution_op, _jit_compiled_convolution_op, _jit_compiled_convolution_op while saving (showing 5 of 13). These functions will not be directly callable after loading.\n"
          ]
        },
        {
          "output_type": "stream",
          "name": "stdout",
          "text": [
            "\b\b\b\b\b\b\b\b\b\b\b\b\b\b\b\b\b\b\b\b\b\b\b\b\b\b\b\b\b\b\b\b\b\b\b\b\b\b\b\b\b\b\b\b\b\b\b\b\b\b\b\b\b\b\b\b\b\b\b\b\b\b\b\b\b\b\b\b\b\b\b\b\b\b\b\b\b\b\b\b\b\b\b\b\b\b\b\b\b\b\b\b\b\b\b\b\b\b\b\b\b\b\b\b\b\b\b\b\b\b\b\b\b\b\b\b\b\b\b\b\b\b\b\b\b\b\b\b\b\b\b\b\b\b\b\b\b\b\b\b\b\b\b\b\b\b\b\b\b\b\b\b\r13/13 [==============================] - 18s 1s/step - loss: 0.6342 - accuracy: 0.8431 - precision: 0.8246 - recall: 0.6723 - auc: 0.9014 - f1_score: 0.6843 - val_loss: 0.2869 - val_accuracy: 0.9315 - val_precision: 0.8972 - val_recall: 0.8972 - val_auc: 0.9848 - val_f1_score: 0.9026 - lr: 1.0000e-04\n",
            "Epoch 9/50\n",
            "13/13 [==============================] - ETA: 0s - loss: 0.5877 - accuracy: 0.8522 - precision: 0.8302 - recall: 0.6996 - auc: 0.9140 - f1_score: 0.7013"
          ]
        },
        {
          "output_type": "stream",
          "name": "stderr",
          "text": [
            "WARNING:absl:Found untraced functions such as _jit_compiled_convolution_op, _jit_compiled_convolution_op, _jit_compiled_convolution_op, _jit_compiled_convolution_op, _jit_compiled_convolution_op while saving (showing 5 of 13). These functions will not be directly callable after loading.\n"
          ]
        },
        {
          "output_type": "stream",
          "name": "stdout",
          "text": [
            "\b\b\b\b\b\b\b\b\b\b\b\b\b\b\b\b\b\b\b\b\b\b\b\b\b\b\b\b\b\b\b\b\b\b\b\b\b\b\b\b\b\b\b\b\b\b\b\b\b\b\b\b\b\b\b\b\b\b\b\b\b\b\b\b\b\b\b\b\b\b\b\b\b\b\b\b\b\b\b\b\b\b\b\b\b\b\b\b\b\b\b\b\b\b\b\b\b\b\b\b\b\b\b\b\b\b\b\b\b\b\b\b\b\b\b\b\b\b\b\b\b\b\b\b\b\b\b\b\b\b\b\b\b\b\b\b\b\b\b\b\b\b\b\b\b\b\b\b\b\b\b\b\r13/13 [==============================] - 18s 1s/step - loss: 0.5877 - accuracy: 0.8522 - precision: 0.8302 - recall: 0.6996 - auc: 0.9140 - f1_score: 0.7013 - val_loss: 0.2729 - val_accuracy: 0.9315 - val_precision: 0.8972 - val_recall: 0.8972 - val_auc: 0.9800 - val_f1_score: 0.8912 - lr: 1.0000e-04\n",
            "Epoch 10/50\n",
            "13/13 [==============================] - ETA: 0s - loss: 0.5866 - accuracy: 0.8570 - precision: 0.8311 - recall: 0.7165 - auc: 0.9155 - f1_score: 0.7102"
          ]
        },
        {
          "output_type": "stream",
          "name": "stderr",
          "text": [
            "WARNING:absl:Found untraced functions such as _jit_compiled_convolution_op, _jit_compiled_convolution_op, _jit_compiled_convolution_op, _jit_compiled_convolution_op, _jit_compiled_convolution_op while saving (showing 5 of 13). These functions will not be directly callable after loading.\n"
          ]
        },
        {
          "output_type": "stream",
          "name": "stdout",
          "text": [
            "\b\b\b\b\b\b\b\b\b\b\b\b\b\b\b\b\b\b\b\b\b\b\b\b\b\b\b\b\b\b\b\b\b\b\b\b\b\b\b\b\b\b\b\b\b\b\b\b\b\b\b\b\b\b\b\b\b\b\b\b\b\b\b\b\b\b\b\b\b\b\b\b\b\b\b\b\b\b\b\b\b\b\b\b\b\b\b\b\b\b\b\b\b\b\b\b\b\b\b\b\b\b\b\b\b\b\b\b\b\b\b\b\b\b\b\b\b\b\b\b\b\b\b\b\b\b\b\b\b\b\b\b\b\b\b\b\b\b\b\b\b\b\b\b\b\b\b\b\b\b\b\b\r13/13 [==============================] - 18s 1s/step - loss: 0.5866 - accuracy: 0.8570 - precision: 0.8311 - recall: 0.7165 - auc: 0.9155 - f1_score: 0.7102 - val_loss: 1.2868 - val_accuracy: 0.7165 - val_precision: 0.5952 - val_recall: 0.4673 - val_auc: 0.6858 - val_f1_score: 0.5285 - lr: 1.0000e-04\n",
            "Epoch 11/50\n",
            "13/13 [==============================] - ETA: 0s - loss: 0.5337 - accuracy: 0.8730 - precision: 0.8584 - recall: 0.7412 - auc: 0.9336 - f1_score: 0.7345"
          ]
        },
        {
          "output_type": "stream",
          "name": "stderr",
          "text": [
            "WARNING:absl:Found untraced functions such as _jit_compiled_convolution_op, _jit_compiled_convolution_op, _jit_compiled_convolution_op, _jit_compiled_convolution_op, _jit_compiled_convolution_op while saving (showing 5 of 13). These functions will not be directly callable after loading.\n"
          ]
        },
        {
          "output_type": "stream",
          "name": "stdout",
          "text": [
            "\b\b\b\b\b\b\b\b\b\b\b\b\b\b\b\b\b\b\b\b\b\b\b\b\b\b\b\b\b\b\b\b\b\b\b\b\b\b\b\b\b\b\b\b\b\b\b\b\b\b\b\b\b\b\b\b\b\b\b\b\b\b\b\b\b\b\b\b\b\b\b\b\b\b\b\b\b\b\b\b\b\b\b\b\b\b\b\b\b\b\b\b\b\b\b\b\b\b\b\b\b\b\b\b\b\b\b\b\b\b\b\b\b\b\b\b\b\b\b\b\b\b\b\b\b\b\b\b\b\b\b\b\b\b\b\b\b\b\b\b\b\b\b\b\b\b\b\b\b\b\b\b\r13/13 [==============================] - 18s 1s/step - loss: 0.5337 - accuracy: 0.8730 - precision: 0.8584 - recall: 0.7412 - auc: 0.9336 - f1_score: 0.7345 - val_loss: 0.3557 - val_accuracy: 0.9128 - val_precision: 0.9072 - val_recall: 0.8224 - val_auc: 0.9615 - val_f1_score: 0.8630 - lr: 1.0000e-04\n",
            "Epoch 12/50\n",
            "13/13 [==============================] - ETA: 0s - loss: 0.5410 - accuracy: 0.8782 - precision: 0.8720 - recall: 0.7438 - auc: 0.9341 - f1_score: 0.7410"
          ]
        },
        {
          "output_type": "stream",
          "name": "stderr",
          "text": [
            "WARNING:absl:Found untraced functions such as _jit_compiled_convolution_op, _jit_compiled_convolution_op, _jit_compiled_convolution_op, _jit_compiled_convolution_op, _jit_compiled_convolution_op while saving (showing 5 of 13). These functions will not be directly callable after loading.\n"
          ]
        },
        {
          "output_type": "stream",
          "name": "stdout",
          "text": [
            "\b\b\b\b\b\b\b\b\b\b\b\b\b\b\b\b\b\b\b\b\b\b\b\b\b\b\b\b\b\b\b\b\b\b\b\b\b\b\b\b\b\b\b\b\b\b\b\b\b\b\b\b\b\b\b\b\b\b\b\b\b\b\b\b\b\b\b\b\b\b\b\b\b\b\b\b\b\b\b\b\b\b\b\b\b\b\b\b\b\b\b\b\b\b\b\b\b\b\b\b\b\b\b\b\b\b\b\b\b\b\b\b\b\b\b\b\b\b\b\b\b\b\b\b\b\b\b\b\b\b\b\b\b\b\b\b\b\b\b\b\b\b\b\b\b\b\b\b\b\b\b\b\r13/13 [==============================] - 18s 2s/step - loss: 0.5410 - accuracy: 0.8782 - precision: 0.8720 - recall: 0.7438 - auc: 0.9341 - f1_score: 0.7410 - val_loss: 0.2596 - val_accuracy: 0.9346 - val_precision: 0.9216 - val_recall: 0.8785 - val_auc: 0.9767 - val_f1_score: 0.9024 - lr: 1.0000e-04\n",
            "Epoch 13/50\n",
            "13/13 [==============================] - ETA: 0s - loss: 0.4841 - accuracy: 0.8860 - precision: 0.8787 - recall: 0.7633 - auc: 0.9488 - f1_score: 0.7544"
          ]
        },
        {
          "output_type": "stream",
          "name": "stderr",
          "text": [
            "WARNING:absl:Found untraced functions such as _jit_compiled_convolution_op, _jit_compiled_convolution_op, _jit_compiled_convolution_op, _jit_compiled_convolution_op, _jit_compiled_convolution_op while saving (showing 5 of 13). These functions will not be directly callable after loading.\n"
          ]
        },
        {
          "output_type": "stream",
          "name": "stdout",
          "text": [
            "\b\b\b\b\b\b\b\b\b\b\b\b\b\b\b\b\b\b\b\b\b\b\b\b\b\b\b\b\b\b\b\b\b\b\b\b\b\b\b\b\b\b\b\b\b\b\b\b\b\b\b\b\b\b\b\b\b\b\b\b\b\b\b\b\b\b\b\b\b\b\b\b\b\b\b\b\b\b\b\b\b\b\b\b\b\b\b\b\b\b\b\b\b\b\b\b\b\b\b\b\b\b\b\b\b\b\b\b\b\b\b\b\b\b\b\b\b\b\b\b\b\b\b\b\b\b\b\b\b\b\b\b\b\b\b\b\b\b\b\b\b\b\b\b\b\b\b\b\b\b\b\b\r13/13 [==============================] - 18s 1s/step - loss: 0.4841 - accuracy: 0.8860 - precision: 0.8787 - recall: 0.7633 - auc: 0.9488 - f1_score: 0.7544 - val_loss: 0.5186 - val_accuracy: 0.8287 - val_precision: 0.8333 - val_recall: 0.6075 - val_auc: 0.9129 - val_f1_score: 0.7055 - lr: 1.0000e-04\n",
            "Epoch 14/50\n",
            "13/13 [==============================] - ETA: 0s - loss: 0.4802 - accuracy: 0.8994 - precision: 0.8776 - recall: 0.8114 - auc: 0.9420 - f1_score: 0.7785"
          ]
        },
        {
          "output_type": "stream",
          "name": "stderr",
          "text": [
            "WARNING:absl:Found untraced functions such as _jit_compiled_convolution_op, _jit_compiled_convolution_op, _jit_compiled_convolution_op, _jit_compiled_convolution_op, _jit_compiled_convolution_op while saving (showing 5 of 13). These functions will not be directly callable after loading.\n"
          ]
        },
        {
          "output_type": "stream",
          "name": "stdout",
          "text": [
            "\b\b\b\b\b\b\b\b\b\b\b\b\b\b\b\b\b\b\b\b\b\b\b\b\b\b\b\b\b\b\b\b\b\b\b\b\b\b\b\b\b\b\b\b\b\b\b\b\b\b\b\b\b\b\b\b\b\b\b\b\b\b\b\b\b\b\b\b\b\b\b\b\b\b\b\b\b\b\b\b\b\b\b\b\b\b\b\b\b\b\b\b\b\b\b\b\b\b\b\b\b\b\b\b\b\b\b\b\b\b\b\b\b\b\b\b\b\b\b\b\b\b\b\b\b\b\b\b\b\b\b\b\b\b\b\b\b\b\b\b\b\b\b\b\b\b\b\b\b\b\b\b\r13/13 [==============================] - 18s 1s/step - loss: 0.4802 - accuracy: 0.8994 - precision: 0.8776 - recall: 0.8114 - auc: 0.9420 - f1_score: 0.7785 - val_loss: 0.3190 - val_accuracy: 0.9283 - val_precision: 0.8962 - val_recall: 0.8879 - val_auc: 0.9677 - val_f1_score: 0.9057 - lr: 1.0000e-04\n",
            "Epoch 15/50\n",
            "13/13 [==============================] - ETA: 0s - loss: 0.4481 - accuracy: 0.9055 - precision: 0.8953 - recall: 0.8114 - auc: 0.9525 - f1_score: 0.7858"
          ]
        },
        {
          "output_type": "stream",
          "name": "stderr",
          "text": [
            "WARNING:absl:Found untraced functions such as _jit_compiled_convolution_op, _jit_compiled_convolution_op, _jit_compiled_convolution_op, _jit_compiled_convolution_op, _jit_compiled_convolution_op while saving (showing 5 of 13). These functions will not be directly callable after loading.\n"
          ]
        },
        {
          "output_type": "stream",
          "name": "stdout",
          "text": [
            "\b\b\b\b\b\b\b\b\b\b\b\b\b\b\b\b\b\b\b\b\b\b\b\b\b\b\b\b\b\b\b\b\b\b\b\b\b\b\b\b\b\b\b\b\b\b\b\b\b\b\b\b\b\b\b\b\b\b\b\b\b\b\b\b\b\b\b\b\b\b\b\b\b\b\b\b\b\b\b\b\b\b\b\b\b\b\b\b\b\b\b\b\b\b\b\b\b\b\b\b\b\b\b\b\b\b\b\b\b\b\b\b\b\b\b\b\b\b\b\b\b\b\b\b\b\b\b\b\b\b\b\b\b\b\b\b\b\b\b\b\b\b\b\b\b\b\b\b\b\b\b\b\r13/13 [==============================] - 18s 1s/step - loss: 0.4481 - accuracy: 0.9055 - precision: 0.8953 - recall: 0.8114 - auc: 0.9525 - f1_score: 0.7858 - val_loss: 0.2801 - val_accuracy: 0.9315 - val_precision: 0.8972 - val_recall: 0.8972 - val_auc: 0.9724 - val_f1_score: 0.8988 - lr: 1.0000e-04\n",
            "Epoch 16/50\n",
            "13/13 [==============================] - ETA: 0s - loss: 0.4679 - accuracy: 0.8847 - precision: 0.8619 - recall: 0.7789 - auc: 0.9468 - f1_score: 0.7552"
          ]
        },
        {
          "output_type": "stream",
          "name": "stderr",
          "text": [
            "WARNING:absl:Found untraced functions such as _jit_compiled_convolution_op, _jit_compiled_convolution_op, _jit_compiled_convolution_op, _jit_compiled_convolution_op, _jit_compiled_convolution_op while saving (showing 5 of 13). These functions will not be directly callable after loading.\n"
          ]
        },
        {
          "output_type": "stream",
          "name": "stdout",
          "text": [
            "\b\b\b\b\b\b\b\b\b\b\b\b\b\b\b\b\b\b\b\b\b\b\b\b\b\b\b\b\b\b\b\b\b\b\b\b\b\b\b\b\b\b\b\b\b\b\b\b\b\b\b\b\b\b\b\b\b\b\b\b\b\b\b\b\b\b\b\b\b\b\b\b\b\b\b\b\b\b\b\b\b\b\b\b\b\b\b\b\b\b\b\b\b\b\b\b\b\b\b\b\b\b\b\b\b\b\b\b\b\b\b\b\b\b\b\b\b\b\b\b\b\b\b\b\b\b\b\b\b\b\b\b\b\b\b\b\b\b\b\b\b\b\b\b\b\b\b\b\b\b\b\b\r13/13 [==============================] - 18s 1s/step - loss: 0.4679 - accuracy: 0.8847 - precision: 0.8619 - recall: 0.7789 - auc: 0.9468 - f1_score: 0.7552 - val_loss: 0.2929 - val_accuracy: 0.9315 - val_precision: 0.8972 - val_recall: 0.8972 - val_auc: 0.9717 - val_f1_score: 0.8912 - lr: 1.0000e-04\n",
            "Epoch 17/50\n",
            "13/13 [==============================] - ETA: 0s - loss: 0.4305 - accuracy: 0.9064 - precision: 0.8782 - recall: 0.8349 - auc: 0.9552 - f1_score: 0.7907"
          ]
        },
        {
          "output_type": "stream",
          "name": "stderr",
          "text": [
            "WARNING:absl:Found untraced functions such as _jit_compiled_convolution_op, _jit_compiled_convolution_op, _jit_compiled_convolution_op, _jit_compiled_convolution_op, _jit_compiled_convolution_op while saving (showing 5 of 13). These functions will not be directly callable after loading.\n"
          ]
        },
        {
          "output_type": "stream",
          "name": "stdout",
          "text": [
            "\b\b\b\b\b\b\b\b\b\b\b\b\b\b\b\b\b\b\b\b\b\b\b\b\b\b\b\b\b\b\b\b\b\b\b\b\b\b\b\b\b\b\b\b\b\b\b\b\b\b\b\b\b\b\b\b\b\b\b\b\b\b\b\b\b\b\b\b\b\b\b\b\b\b\b\b\b\b\b\b\b\b\b\b\b\b\b\b\b\b\b\b\b\b\b\b\b\b\b\b\b\b\b\b\b\b\b\b\b\b\b\b\b\b\b\b\b\b\b\b\b\b\b\b\b\b\b\b\b\b\b\b\b\b\b\b\b\b\b\b\b\b\b\b\b\b\b\b\b\b\b\b\r13/13 [==============================] - 18s 1s/step - loss: 0.4305 - accuracy: 0.9064 - precision: 0.8782 - recall: 0.8349 - auc: 0.9552 - f1_score: 0.7907 - val_loss: 0.2577 - val_accuracy: 0.9377 - val_precision: 0.9223 - val_recall: 0.8879 - val_auc: 0.9776 - val_f1_score: 0.9051 - lr: 1.0000e-04\n",
            "Epoch 18/50\n",
            "13/13 [==============================] - ETA: 0s - loss: 0.4309 - accuracy: 0.9051 - precision: 0.8873 - recall: 0.8192 - auc: 0.9529 - f1_score: 0.7867"
          ]
        },
        {
          "output_type": "stream",
          "name": "stderr",
          "text": [
            "WARNING:absl:Found untraced functions such as _jit_compiled_convolution_op, _jit_compiled_convolution_op, _jit_compiled_convolution_op, _jit_compiled_convolution_op, _jit_compiled_convolution_op while saving (showing 5 of 13). These functions will not be directly callable after loading.\n"
          ]
        },
        {
          "output_type": "stream",
          "name": "stdout",
          "text": [
            "\b\b\b\b\b\b\b\b\b\b\b\b\b\b\b\b\b\b\b\b\b\b\b\b\b\b\b\b\b\b\b\b\b\b\b\b\b\b\b\b\b\b\b\b\b\b\b\b\b\b\b\b\b\b\b\b\b\b\b\b\b\b\b\b\b\b\b\b\b\b\b\b\b\b\b\b\b\b\b\b\b\b\b\b\b\b\b\b\b\b\b\b\b\b\b\b\b\b\b\b\b\b\b\b\b\b\b\b\b\b\b\b\b\b\b\b\b\b\b\b\b\b\b\b\b\b\b\b\b\b\b\b\b\b\b\b\b\b\b\b\b\b\b\b\b\b\b\b\b\b\b\b\r13/13 [==============================] - 18s 1s/step - loss: 0.4309 - accuracy: 0.9051 - precision: 0.8873 - recall: 0.8192 - auc: 0.9529 - f1_score: 0.7867 - val_loss: 0.3286 - val_accuracy: 0.9190 - val_precision: 0.8932 - val_recall: 0.8598 - val_auc: 0.9668 - val_f1_score: 0.8849 - lr: 1.0000e-04\n",
            "Epoch 19/50\n",
            "13/13 [==============================] - ETA: 0s - loss: 0.4081 - accuracy: 0.9068 - precision: 0.8869 - recall: 0.8257 - auc: 0.9608 - f1_score: 0.7894"
          ]
        },
        {
          "output_type": "stream",
          "name": "stderr",
          "text": [
            "WARNING:absl:Found untraced functions such as _jit_compiled_convolution_op, _jit_compiled_convolution_op, _jit_compiled_convolution_op, _jit_compiled_convolution_op, _jit_compiled_convolution_op while saving (showing 5 of 13). These functions will not be directly callable after loading.\n"
          ]
        },
        {
          "output_type": "stream",
          "name": "stdout",
          "text": [
            "\b\b\b\b\b\b\b\b\b\b\b\b\b\b\b\b\b\b\b\b\b\b\b\b\b\b\b\b\b\b\b\b\b\b\b\b\b\b\b\b\b\b\b\b\b\b\b\b\b\b\b\b\b\b\b\b\b\b\b\b\b\b\b\b\b\b\b\b\b\b\b\b\b\b\b\b\b\b\b\b\b\b\b\b\b\b\b\b\b\b\b\b\b\b\b\b\b\b\b\b\b\b\b\b\b\b\b\b\b\b\b\b\b\b\b\b\b\b\b\b\b\b\b\b\b\b\b\b\b\b\b\b\b\b\b\b\b\b\b\b\b\b\b\b\b\b\b\b\b\b\b\b\r13/13 [==============================] - 18s 1s/step - loss: 0.4081 - accuracy: 0.9068 - precision: 0.8869 - recall: 0.8257 - auc: 0.9608 - f1_score: 0.7894 - val_loss: 0.4315 - val_accuracy: 0.8567 - val_precision: 0.8961 - val_recall: 0.6449 - val_auc: 0.9432 - val_f1_score: 0.7415 - lr: 1.0000e-04\n",
            "Epoch 20/50\n",
            "12/13 [==========================>...] - ETA: 1s - loss: 0.3879 - accuracy: 0.9145 - precision: 0.8993 - recall: 0.8372 - auc: 0.9638 - f1_score: 0.8666"
          ]
        },
        {
          "output_type": "stream",
          "name": "stderr",
          "text": [
            "WARNING:absl:Found untraced functions such as _jit_compiled_convolution_op, _jit_compiled_convolution_op, _jit_compiled_convolution_op, _jit_compiled_convolution_op, _jit_compiled_convolution_op while saving (showing 5 of 13). These functions will not be directly callable after loading.\n"
          ]
        },
        {
          "output_type": "stream",
          "name": "stdout",
          "text": [
            "\b\b\b\b\b\b\b\b\b\b\b\b\b\b\b\b\b\b\b\b\b\b\b\b\b\b\b\b\b\b\b\b\b\b\b\b\b\b\b\b\b\b\b\b\b\b\b\b\b\b\b\b\b\b\b\b\b\b\b\b\b\b\b\b\b\b\b\b\b\b\b\b\b\b\b\b\b\b\b\b\b\b\b\b\b\b\b\b\b\b\b\b\b\b\b\b\b\b\b\b\b\b\b\b\b\b\b\b\b\b\b\b\b\b\b\b\b\b\b\b\b\b\b\b\b\b\b\b\b\b\b\b\b\b\b\b\b\b\b\b\b\b\b\b\b\b\b\b\b\b\b\b\r13/13 [==============================] - 18s 1s/step - loss: 0.3888 - accuracy: 0.9142 - precision: 0.8993 - recall: 0.8362 - auc: 0.9637 - f1_score: 0.7999 - val_loss: 0.9515 - val_accuracy: 0.7819 - val_precision: 0.7681 - val_recall: 0.4953 - val_auc: 0.7887 - val_f1_score: 0.6051 - lr: 1.0000e-04\n",
            "Epoch 21/50\n",
            "13/13 [==============================] - ETA: 0s - loss: 0.4013 - accuracy: 0.9059 - precision: 0.8932 - recall: 0.8153 - auc: 0.9622 - f1_score: 0.7872"
          ]
        },
        {
          "output_type": "stream",
          "name": "stderr",
          "text": [
            "WARNING:absl:Found untraced functions such as _jit_compiled_convolution_op, _jit_compiled_convolution_op, _jit_compiled_convolution_op, _jit_compiled_convolution_op, _jit_compiled_convolution_op while saving (showing 5 of 13). These functions will not be directly callable after loading.\n"
          ]
        },
        {
          "output_type": "stream",
          "name": "stdout",
          "text": [
            "\b\b\b\b\b\b\b\b\b\b\b\b\b\b\b\b\b\b\b\b\b\b\b\b\b\b\b\b\b\b\b\b\b\b\b\b\b\b\b\b\b\b\b\b\b\b\b\b\b\b\b\b\b\b\b\b\b\b\b\b\b\b\b\b\b\b\b\b\b\b\b\b\b\b\b\b\b\b\b\b\b\b\b\b\b\b\b\b\b\b\b\b\b\b\b\b\b\b\b\b\b\b\b\b\b\b\b\b\b\b\b\b\b\b\b\b\b\b\b\b\b\b\b\b\b\b\b\b\b\b\b\b\b\b\b\b\b\b\b\b\b\b\b\b\b\b\b\b\b\b\b\b\r13/13 [==============================] - 18s 1s/step - loss: 0.4013 - accuracy: 0.9059 - precision: 0.8932 - recall: 0.8153 - auc: 0.9622 - f1_score: 0.7872 - val_loss: 0.2830 - val_accuracy: 0.9377 - val_precision: 0.9223 - val_recall: 0.8879 - val_auc: 0.9742 - val_f1_score: 0.9122 - lr: 1.0000e-04\n",
            "Epoch 22/50\n",
            "13/13 [==============================] - ETA: 0s - loss: 0.3906 - accuracy: 0.9172 - precision: 0.9059 - recall: 0.8388 - auc: 0.9635 - f1_score: 0.8039\n",
            "Epoch 22: ReduceLROnPlateau reducing learning rate to 4.999999873689376e-05.\n"
          ]
        },
        {
          "output_type": "stream",
          "name": "stderr",
          "text": [
            "WARNING:absl:Found untraced functions such as _jit_compiled_convolution_op, _jit_compiled_convolution_op, _jit_compiled_convolution_op, _jit_compiled_convolution_op, _jit_compiled_convolution_op while saving (showing 5 of 13). These functions will not be directly callable after loading.\n"
          ]
        },
        {
          "output_type": "stream",
          "name": "stdout",
          "text": [
            "\b\b\b\b\b\b\b\b\b\b\b\b\b\b\b\b\b\b\b\b\b\b\b\b\b\b\b\b\b\b\b\b\b\b\b\b\b\b\b\b\b\b\b\b\b\b\b\b\b\b\b\b\b\b\b\b\b\b\b\b\b\b\b\b\b\b\b\b\b\b\b\b\b\b\b\b\b\b\b\b\b\b\b\b\b\b\b\b\b\b\b\b\b\b\b\b\b\b\b\b\b\b\b\b\b\b\b\b\b\b\b\b\b\b\b\b\b\b\b\b\b\b\b\b\b\b\b\b\b\b\b\b\b\b\b\b\b\b\b\b\b\b\b\b\b\b\b\b\b\b\b\b\r13/13 [==============================] - 18s 1s/step - loss: 0.3906 - accuracy: 0.9172 - precision: 0.9059 - recall: 0.8388 - auc: 0.9635 - f1_score: 0.8039 - val_loss: 0.3850 - val_accuracy: 0.9190 - val_precision: 0.8932 - val_recall: 0.8598 - val_auc: 0.9472 - val_f1_score: 0.8702 - lr: 1.0000e-04\n",
            "Epoch 23/50\n",
            "12/13 [==========================>...] - ETA: 1s - loss: 0.3554 - accuracy: 0.9210 - precision: 0.9058 - recall: 0.8516 - auc: 0.9717 - f1_score: 0.8777"
          ]
        },
        {
          "output_type": "stream",
          "name": "stderr",
          "text": [
            "WARNING:absl:Found untraced functions such as _jit_compiled_convolution_op, _jit_compiled_convolution_op, _jit_compiled_convolution_op, _jit_compiled_convolution_op, _jit_compiled_convolution_op while saving (showing 5 of 13). These functions will not be directly callable after loading.\n"
          ]
        },
        {
          "output_type": "stream",
          "name": "stdout",
          "text": [
            "\b\b\b\b\b\b\b\b\b\b\b\b\b\b\b\b\b\b\b\b\b\b\b\b\b\b\b\b\b\b\b\b\b\b\b\b\b\b\b\b\b\b\b\b\b\b\b\b\b\b\b\b\b\b\b\b\b\b\b\b\b\b\b\b\b\b\b\b\b\b\b\b\b\b\b\b\b\b\b\b\b\b\b\b\b\b\b\b\b\b\b\b\b\b\b\b\b\b\b\b\b\b\b\b\b\b\b\b\b\b\b\b\b\b\b\b\b\b\b\b\b\b\b\b\b\b\b\b\b\b\b\b\b\b\b\b\b\b\b\b\b\b\b\b\b\b\b\b\b\b\b\b\r13/13 [==============================] - 18s 1s/step - loss: 0.3565 - accuracy: 0.9207 - precision: 0.9058 - recall: 0.8505 - auc: 0.9715 - f1_score: 0.8102 - val_loss: 0.6061 - val_accuracy: 0.8910 - val_precision: 0.8673 - val_recall: 0.7944 - val_auc: 0.8987 - val_f1_score: 0.8226 - lr: 5.0000e-05\n",
            "Epoch 24/50\n",
            "13/13 [==============================] - ETA: 0s - loss: 0.3783 - accuracy: 0.9133 - precision: 0.8968 - recall: 0.8362 - auc: 0.9664 - f1_score: 0.7989"
          ]
        },
        {
          "output_type": "stream",
          "name": "stderr",
          "text": [
            "WARNING:absl:Found untraced functions such as _jit_compiled_convolution_op, _jit_compiled_convolution_op, _jit_compiled_convolution_op, _jit_compiled_convolution_op, _jit_compiled_convolution_op while saving (showing 5 of 13). These functions will not be directly callable after loading.\n"
          ]
        },
        {
          "output_type": "stream",
          "name": "stdout",
          "text": [
            "\b\b\b\b\b\b\b\b\b\b\b\b\b\b\b\b\b\b\b\b\b\b\b\b\b\b\b\b\b\b\b\b\b\b\b\b\b\b\b\b\b\b\b\b\b\b\b\b\b\b\b\b\b\b\b\b\b\b\b\b\b\b\b\b\b\b\b\b\b\b\b\b\b\b\b\b\b\b\b\b\b\b\b\b\b\b\b\b\b\b\b\b\b\b\b\b\b\b\b\b\b\b\b\b\b\b\b\b\b\b\b\b\b\b\b\b\b\b\b\b\b\b\b\b\b\b\b\b\b\b\b\b\b\b\b\b\b\b\b\b\b\b\b\b\b\b\b\b\b\b\b\b\r13/13 [==============================] - 18s 1s/step - loss: 0.3783 - accuracy: 0.9133 - precision: 0.8968 - recall: 0.8362 - auc: 0.9664 - f1_score: 0.7989 - val_loss: 0.2946 - val_accuracy: 0.9315 - val_precision: 0.8972 - val_recall: 0.8972 - val_auc: 0.9697 - val_f1_score: 0.8912 - lr: 5.0000e-05\n",
            "Epoch 25/50\n",
            "13/13 [==============================] - ETA: 0s - loss: 0.3641 - accuracy: 0.9155 - precision: 0.8921 - recall: 0.8492 - auc: 0.9679 - f1_score: 0.8036"
          ]
        },
        {
          "output_type": "stream",
          "name": "stderr",
          "text": [
            "WARNING:absl:Found untraced functions such as _jit_compiled_convolution_op, _jit_compiled_convolution_op, _jit_compiled_convolution_op, _jit_compiled_convolution_op, _jit_compiled_convolution_op while saving (showing 5 of 13). These functions will not be directly callable after loading.\n"
          ]
        },
        {
          "output_type": "stream",
          "name": "stdout",
          "text": [
            "\b\b\b\b\b\b\b\b\b\b\b\b\b\b\b\b\b\b\b\b\b\b\b\b\b\b\b\b\b\b\b\b\b\b\b\b\b\b\b\b\b\b\b\b\b\b\b\b\b\b\b\b\b\b\b\b\b\b\b\b\b\b\b\b\b\b\b\b\b\b\b\b\b\b\b\b\b\b\b\b\b\b\b\b\b\b\b\b\b\b\b\b\b\b\b\b\b\b\b\b\b\b\b\b\b\b\b\b\b\b\b\b\b\b\b\b\b\b\b\b\b\b\b\b\b\b\b\b\b\b\b\b\b\b\b\b\b\b\b\b\b\b\b\b\b\b\b\b\b\b\b\b\r13/13 [==============================] - 18s 1s/step - loss: 0.3641 - accuracy: 0.9155 - precision: 0.8921 - recall: 0.8492 - auc: 0.9679 - f1_score: 0.8036 - val_loss: 0.3236 - val_accuracy: 0.9315 - val_precision: 0.8972 - val_recall: 0.8972 - val_auc: 0.9560 - val_f1_score: 0.8988 - lr: 5.0000e-05\n",
            "Epoch 26/50\n",
            "13/13 [==============================] - ETA: 0s - loss: 0.3466 - accuracy: 0.9246 - precision: 0.9103 - recall: 0.8583 - auc: 0.9714 - f1_score: 0.8160"
          ]
        },
        {
          "output_type": "stream",
          "name": "stderr",
          "text": [
            "WARNING:absl:Found untraced functions such as _jit_compiled_convolution_op, _jit_compiled_convolution_op, _jit_compiled_convolution_op, _jit_compiled_convolution_op, _jit_compiled_convolution_op while saving (showing 5 of 13). These functions will not be directly callable after loading.\n"
          ]
        },
        {
          "output_type": "stream",
          "name": "stdout",
          "text": [
            "\b\b\b\b\b\b\b\b\b\b\b\b\b\b\b\b\b\b\b\b\b\b\b\b\b\b\b\b\b\b\b\b\b\b\b\b\b\b\b\b\b\b\b\b\b\b\b\b\b\b\b\b\b\b\b\b\b\b\b\b\b\b\b\b\b\b\b\b\b\b\b\b\b\b\b\b\b\b\b\b\b\b\b\b\b\b\b\b\b\b\b\b\b\b\b\b\b\b\b\b\b\b\b\b\b\b\b\b\b\b\b\b\b\b\b\b\b\b\b\b\b\b\b\b\b\b\b\b\b\b\b\b\b\b\b\b\b\b\b\b\b\b\b\b\b\b\b\b\b\b\b\b\r13/13 [==============================] - 18s 1s/step - loss: 0.3466 - accuracy: 0.9246 - precision: 0.9103 - recall: 0.8583 - auc: 0.9714 - f1_score: 0.8160 - val_loss: 0.2697 - val_accuracy: 0.9315 - val_precision: 0.8972 - val_recall: 0.8972 - val_auc: 0.9776 - val_f1_score: 0.9026 - lr: 5.0000e-05\n",
            "Epoch 27/50\n",
            "13/13 [==============================] - ETA: 0s - loss: 0.3439 - accuracy: 0.9207 - precision: 0.9036 - recall: 0.8531 - auc: 0.9725 - f1_score: 0.8104\n",
            "Epoch 27: ReduceLROnPlateau reducing learning rate to 2.499999936844688e-05.\n"
          ]
        },
        {
          "output_type": "stream",
          "name": "stderr",
          "text": [
            "WARNING:absl:Found untraced functions such as _jit_compiled_convolution_op, _jit_compiled_convolution_op, _jit_compiled_convolution_op, _jit_compiled_convolution_op, _jit_compiled_convolution_op while saving (showing 5 of 13). These functions will not be directly callable after loading.\n"
          ]
        },
        {
          "output_type": "stream",
          "name": "stdout",
          "text": [
            "\b\b\b\b\b\b\b\b\b\b\b\b\b\b\b\b\b\b\b\b\b\b\b\b\b\b\b\b\b\b\b\b\b\b\b\b\b\b\b\b\b\b\b\b\b\b\b\b\b\b\b\b\b\b\b\b\b\b\b\b\b\b\b\b\b\b\b\b\b\b\b\b\b\b\b\b\b\b\b\b\b\b\b\b\b\b\b\b\b\b\b\b\b\b\b\b\b\b\b\b\b\b\b\b\b\b\b\b\b\b\b\b\b\b\b\b\b\b\b\b\b\b\b\b\b\b\b\b\b\b\b\b\b\b\b\b\b\b\b\b\b\b\b\b\b\b\b\b\b\b\b\b\r13/13 [==============================] - 18s 2s/step - loss: 0.3439 - accuracy: 0.9207 - precision: 0.9036 - recall: 0.8531 - auc: 0.9725 - f1_score: 0.8104 - val_loss: 0.3069 - val_accuracy: 0.9315 - val_precision: 0.8972 - val_recall: 0.8972 - val_auc: 0.9682 - val_f1_score: 0.9026 - lr: 5.0000e-05\n",
            "Epoch 28/50\n",
            "13/13 [==============================] - ETA: 0s - loss: 0.3387 - accuracy: 0.9198 - precision: 0.9044 - recall: 0.8492 - auc: 0.9738 - f1_score: 0.8088"
          ]
        },
        {
          "output_type": "stream",
          "name": "stderr",
          "text": [
            "WARNING:absl:Found untraced functions such as _jit_compiled_convolution_op, _jit_compiled_convolution_op, _jit_compiled_convolution_op, _jit_compiled_convolution_op, _jit_compiled_convolution_op while saving (showing 5 of 13). These functions will not be directly callable after loading.\n"
          ]
        },
        {
          "output_type": "stream",
          "name": "stdout",
          "text": [
            "\b\b\b\b\b\b\b\b\b\b\b\b\b\b\b\b\b\b\b\b\b\b\b\b\b\b\b\b\b\b\b\b\b\b\b\b\b\b\b\b\b\b\b\b\b\b\b\b\b\b\b\b\b\b\b\b\b\b\b\b\b\b\b\b\b\b\b\b\b\b\b\b\b\b\b\b\b\b\b\b\b\b\b\b\b\b\b\b\b\b\b\b\b\b\b\b\b\b\b\b\b\b\b\b\b\b\b\b\b\b\b\b\b\b\b\b\b\b\b\b\b\b\b\b\b\b\b\b\b\b\b\b\b\b\b\b\b\b\b\b\b\b\b\b\b\b\b\b\b\b\b\b\r13/13 [==============================] - 18s 1s/step - loss: 0.3387 - accuracy: 0.9198 - precision: 0.9044 - recall: 0.8492 - auc: 0.9738 - f1_score: 0.8088 - val_loss: 0.2838 - val_accuracy: 0.9408 - val_precision: 0.9231 - val_recall: 0.8972 - val_auc: 0.9736 - val_f1_score: 0.9171 - lr: 2.5000e-05\n",
            "Epoch 29/50\n",
            "13/13 [==============================] - ETA: 0s - loss: 0.3225 - accuracy: 0.9224 - precision: 0.9052 - recall: 0.8570 - auc: 0.9763 - f1_score: 0.8130"
          ]
        },
        {
          "output_type": "stream",
          "name": "stderr",
          "text": [
            "WARNING:absl:Found untraced functions such as _jit_compiled_convolution_op, _jit_compiled_convolution_op, _jit_compiled_convolution_op, _jit_compiled_convolution_op, _jit_compiled_convolution_op while saving (showing 5 of 13). These functions will not be directly callable after loading.\n"
          ]
        },
        {
          "output_type": "stream",
          "name": "stdout",
          "text": [
            "\b\b\b\b\b\b\b\b\b\b\b\b\b\b\b\b\b\b\b\b\b\b\b\b\b\b\b\b\b\b\b\b\b\b\b\b\b\b\b\b\b\b\b\b\b\b\b\b\b\b\b\b\b\b\b\b\b\b\b\b\b\b\b\b\b\b\b\b\b\b\b\b\b\b\b\b\b\b\b\b\b\b\b\b\b\b\b\b\b\b\b\b\b\b\b\b\b\b\b\b\b\b\b\b\b\b\b\b\b\b\b\b\b\b\b\b\b\b\b\b\b\b\b\b\b\b\b\b\b\b\b\b\b\b\b\b\b\b\b\b\b\b\b\b\b\b\b\b\b\b\b\b\r13/13 [==============================] - 18s 1s/step - loss: 0.3225 - accuracy: 0.9224 - precision: 0.9052 - recall: 0.8570 - auc: 0.9763 - f1_score: 0.8130 - val_loss: 0.3177 - val_accuracy: 0.9439 - val_precision: 0.9238 - val_recall: 0.9065 - val_auc: 0.9743 - val_f1_score: 0.9155 - lr: 2.5000e-05\n",
            "Epoch 30/50\n",
            "13/13 [==============================] - ETA: 0s - loss: 0.3219 - accuracy: 0.9272 - precision: 0.9122 - recall: 0.8648 - auc: 0.9768 - f1_score: 0.8200"
          ]
        },
        {
          "output_type": "stream",
          "name": "stderr",
          "text": [
            "WARNING:absl:Found untraced functions such as _jit_compiled_convolution_op, _jit_compiled_convolution_op, _jit_compiled_convolution_op, _jit_compiled_convolution_op, _jit_compiled_convolution_op while saving (showing 5 of 13). These functions will not be directly callable after loading.\n"
          ]
        },
        {
          "output_type": "stream",
          "name": "stdout",
          "text": [
            "\b\b\b\b\b\b\b\b\b\b\b\b\b\b\b\b\b\b\b\b\b\b\b\b\b\b\b\b\b\b\b\b\b\b\b\b\b\b\b\b\b\b\b\b\b\b\b\b\b\b\b\b\b\b\b\b\b\b\b\b\b\b\b\b\b\b\b\b\b\b\b\b\b\b\b\b\b\b\b\b\b\b\b\b\b\b\b\b\b\b\b\b\b\b\b\b\b\b\b\b\b\b\b\b\b\b\b\b\b\b\b\b\b\b\b\b\b\b\b\b\b\b\b\b\b\b\b\b\b\b\b\b\b\b\b\b\b\b\b\b\b\b\b\b\b\b\b\b\b\b\b\b\r13/13 [==============================] - 18s 1s/step - loss: 0.3219 - accuracy: 0.9272 - precision: 0.9122 - recall: 0.8648 - auc: 0.9768 - f1_score: 0.8200 - val_loss: 0.3208 - val_accuracy: 0.9315 - val_precision: 0.8972 - val_recall: 0.8972 - val_auc: 0.9635 - val_f1_score: 0.8988 - lr: 2.5000e-05\n",
            "Epoch 31/50\n",
            "13/13 [==============================] - ETA: 0s - loss: 0.3298 - accuracy: 0.9254 - precision: 0.9106 - recall: 0.8609 - auc: 0.9764 - f1_score: 0.8175"
          ]
        },
        {
          "output_type": "stream",
          "name": "stderr",
          "text": [
            "WARNING:absl:Found untraced functions such as _jit_compiled_convolution_op, _jit_compiled_convolution_op, _jit_compiled_convolution_op, _jit_compiled_convolution_op, _jit_compiled_convolution_op while saving (showing 5 of 13). These functions will not be directly callable after loading.\n"
          ]
        },
        {
          "output_type": "stream",
          "name": "stdout",
          "text": [
            "\b\b\b\b\b\b\b\b\b\b\b\b\b\b\b\b\b\b\b\b\b\b\b\b\b\b\b\b\b\b\b\b\b\b\b\b\b\b\b\b\b\b\b\b\b\b\b\b\b\b\b\b\b\b\b\b\b\b\b\b\b\b\b\b\b\b\b\b\b\b\b\b\b\b\b\b\b\b\b\b\b\b\b\b\b\b\b\b\b\b\b\b\b\b\b\b\b\b\b\b\b\b\b\b\b\b\b\b\b\b\b\b\b\b\b\b\b\b\b\b\b\b\b\b\b\b\b\b\b\b\b\b\b\b\b\b\b\b\b\b\b\b\b\b\b\b\b\b\b\b\b\b\r13/13 [==============================] - 18s 1s/step - loss: 0.3298 - accuracy: 0.9254 - precision: 0.9106 - recall: 0.8609 - auc: 0.9764 - f1_score: 0.8175 - val_loss: 0.2882 - val_accuracy: 0.9377 - val_precision: 0.9223 - val_recall: 0.8879 - val_auc: 0.9759 - val_f1_score: 0.9067 - lr: 2.5000e-05\n",
            "Epoch 32/50\n",
            "13/13 [==============================] - ETA: 0s - loss: 0.3075 - accuracy: 0.9302 - precision: 0.9176 - recall: 0.8687 - auc: 0.9797 - f1_score: 0.8241\n",
            "Epoch 32: ReduceLROnPlateau reducing learning rate to 1.249999968422344e-05.\n"
          ]
        },
        {
          "output_type": "stream",
          "name": "stderr",
          "text": [
            "WARNING:absl:Found untraced functions such as _jit_compiled_convolution_op, _jit_compiled_convolution_op, _jit_compiled_convolution_op, _jit_compiled_convolution_op, _jit_compiled_convolution_op while saving (showing 5 of 13). These functions will not be directly callable after loading.\n"
          ]
        },
        {
          "output_type": "stream",
          "name": "stdout",
          "text": [
            "\b\b\b\b\b\b\b\b\b\b\b\b\b\b\b\b\b\b\b\b\b\b\b\b\b\b\b\b\b\b\b\b\b\b\b\b\b\b\b\b\b\b\b\b\b\b\b\b\b\b\b\b\b\b\b\b\b\b\b\b\b\b\b\b\b\b\b\b\b\b\b\b\b\b\b\b\b\b\b\b\b\b\b\b\b\b\b\b\b\b\b\b\b\b\b\b\b\b\b\b\b\b\b\b\b\b\b\b\b\b\b\b\b\b\b\b\b\b\b\b\b\b\b\b\b\b\b\b\b\b\b\b\b\b\b\b\b\b\b\b\b\b\b\b\b\b\b\b\b\b\b\b\r13/13 [==============================] - 18s 1s/step - loss: 0.3075 - accuracy: 0.9302 - precision: 0.9176 - recall: 0.8687 - auc: 0.9797 - f1_score: 0.8241 - val_loss: 0.3015 - val_accuracy: 0.9408 - val_precision: 0.9231 - val_recall: 0.8972 - val_auc: 0.9739 - val_f1_score: 0.9091 - lr: 2.5000e-05\n",
            "Epoch 33/50\n",
            "13/13 [==============================] - ETA: 0s - loss: 0.3094 - accuracy: 0.9311 - precision: 0.9144 - recall: 0.8752 - auc: 0.9785 - f1_score: 0.8260"
          ]
        },
        {
          "output_type": "stream",
          "name": "stderr",
          "text": [
            "WARNING:absl:Found untraced functions such as _jit_compiled_convolution_op, _jit_compiled_convolution_op, _jit_compiled_convolution_op, _jit_compiled_convolution_op, _jit_compiled_convolution_op while saving (showing 5 of 13). These functions will not be directly callable after loading.\n"
          ]
        },
        {
          "output_type": "stream",
          "name": "stdout",
          "text": [
            "\b\b\b\b\b\b\b\b\b\b\b\b\b\b\b\b\b\b\b\b\b\b\b\b\b\b\b\b\b\b\b\b\b\b\b\b\b\b\b\b\b\b\b\b\b\b\b\b\b\b\b\b\b\b\b\b\b\b\b\b\b\b\b\b\b\b\b\b\b\b\b\b\b\b\b\b\b\b\b\b\b\b\b\b\b\b\b\b\b\b\b\b\b\b\b\b\b\b\b\b\b\b\b\b\b\b\b\b\b\b\b\b\b\b\b\b\b\b\b\b\b\b\b\b\b\b\b\b\b\b\b\b\b\b\b\b\b\b\b\b\b\b\b\b\b\b\b\b\b\b\b\b\r13/13 [==============================] - 18s 1s/step - loss: 0.3094 - accuracy: 0.9311 - precision: 0.9144 - recall: 0.8752 - auc: 0.9785 - f1_score: 0.8260 - val_loss: 0.2876 - val_accuracy: 0.9439 - val_precision: 0.9238 - val_recall: 0.9065 - val_auc: 0.9745 - val_f1_score: 0.9194 - lr: 1.2500e-05\n",
            "Epoch 34/50\n",
            "13/13 [==============================] - ETA: 0s - loss: 0.3173 - accuracy: 0.9293 - precision: 0.9174 - recall: 0.8661 - auc: 0.9781 - f1_score: 0.8229"
          ]
        },
        {
          "output_type": "stream",
          "name": "stderr",
          "text": [
            "WARNING:absl:Found untraced functions such as _jit_compiled_convolution_op, _jit_compiled_convolution_op, _jit_compiled_convolution_op, _jit_compiled_convolution_op, _jit_compiled_convolution_op while saving (showing 5 of 13). These functions will not be directly callable after loading.\n"
          ]
        },
        {
          "output_type": "stream",
          "name": "stdout",
          "text": [
            "\b\b\b\b\b\b\b\b\b\b\b\b\b\b\b\b\b\b\b\b\b\b\b\b\b\b\b\b\b\b\b\b\b\b\b\b\b\b\b\b\b\b\b\b\b\b\b\b\b\b\b\b\b\b\b\b\b\b\b\b\b\b\b\b\b\b\b\b\b\b\b\b\b\b\b\b\b\b\b\b\b\b\b\b\b\b\b\b\b\b\b\b\b\b\b\b\b\b\b\b\b\b\b\b\b\b\b\b\b\b\b\b\b\b\b\b\b\b\b\b\b\b\b\b\b\b\b\b\b\b\b\b\b\b\b\b\b\b\b\b\b\b\b\b\b\b\b\b\b\b\b\b\r13/13 [==============================] - 18s 1s/step - loss: 0.3173 - accuracy: 0.9293 - precision: 0.9174 - recall: 0.8661 - auc: 0.9781 - f1_score: 0.8229 - val_loss: 0.3578 - val_accuracy: 0.9283 - val_precision: 0.9038 - val_recall: 0.8785 - val_auc: 0.9548 - val_f1_score: 0.8915 - lr: 1.2500e-05\n",
            "Epoch 35/50\n",
            "13/13 [==============================] - ETA: 0s - loss: 0.3043 - accuracy: 0.9280 - precision: 0.9091 - recall: 0.8713 - auc: 0.9808 - f1_score: 0.8218"
          ]
        },
        {
          "output_type": "stream",
          "name": "stderr",
          "text": [
            "WARNING:absl:Found untraced functions such as _jit_compiled_convolution_op, _jit_compiled_convolution_op, _jit_compiled_convolution_op, _jit_compiled_convolution_op, _jit_compiled_convolution_op while saving (showing 5 of 13). These functions will not be directly callable after loading.\n"
          ]
        },
        {
          "output_type": "stream",
          "name": "stdout",
          "text": [
            "\b\b\b\b\b\b\b\b\b\b\b\b\b\b\b\b\b\b\b\b\b\b\b\b\b\b\b\b\b\b\b\b\b\b\b\b\b\b\b\b\b\b\b\b\b\b\b\b\b\b\b\b\b\b\b\b\b\b\b\b\b\b\b\b\b\b\b\b\b\b\b\b\b\b\b\b\b\b\b\b\b\b\b\b\b\b\b\b\b\b\b\b\b\b\b\b\b\b\b\b\b\b\b\b\b\b\b\b\b\b\b\b\b\b\b\b\b\b\b\b\b\b\b\b\b\b\b\b\b\b\b\b\b\b\b\b\b\b\b\b\b\b\b\b\b\b\b\b\b\b\b\b\r13/13 [==============================] - 17s 1s/step - loss: 0.3043 - accuracy: 0.9280 - precision: 0.9091 - recall: 0.8713 - auc: 0.9808 - f1_score: 0.8218 - val_loss: 0.2994 - val_accuracy: 0.9408 - val_precision: 0.9151 - val_recall: 0.9065 - val_auc: 0.9771 - val_f1_score: 0.9080 - lr: 1.2500e-05\n",
            "Epoch 36/50\n",
            "13/13 [==============================] - ETA: 0s - loss: 0.2844 - accuracy: 0.9402 - precision: 0.9352 - recall: 0.8817 - auc: 0.9852 - f1_score: 0.8383"
          ]
        },
        {
          "output_type": "stream",
          "name": "stderr",
          "text": [
            "WARNING:absl:Found untraced functions such as _jit_compiled_convolution_op, _jit_compiled_convolution_op, _jit_compiled_convolution_op, _jit_compiled_convolution_op, _jit_compiled_convolution_op while saving (showing 5 of 13). These functions will not be directly callable after loading.\n"
          ]
        },
        {
          "output_type": "stream",
          "name": "stdout",
          "text": [
            "\b\b\b\b\b\b\b\b\b\b\b\b\b\b\b\b\b\b\b\b\b\b\b\b\b\b\b\b\b\b\b\b\b\b\b\b\b\b\b\b\b\b\b\b\b\b\b\b\b\b\b\b\b\b\b\b\b\b\b\b\b\b\b\b\b\b\b\b\b\b\b\b\b\b\b\b\b\b\b\b\b\b\b\b\b\b\b\b\b\b\b\b\b\b\b\b\b\b\b\b\b\b\b\b\b\b\b\b\b\b\b\b\b\b\b\b\b\b\b\b\b\b\b\b\b\b\b\b\b\b\b\b\b\b\b\b\b\b\b\b\b\b\b\b\b\b\b\b\b\b\b\b\r13/13 [==============================] - 18s 1s/step - loss: 0.2844 - accuracy: 0.9402 - precision: 0.9352 - recall: 0.8817 - auc: 0.9852 - f1_score: 0.8383 - val_loss: 0.3993 - val_accuracy: 0.9190 - val_precision: 0.8932 - val_recall: 0.8598 - val_auc: 0.9415 - val_f1_score: 0.8828 - lr: 1.2500e-05\n",
            "Epoch 37/50\n",
            "13/13 [==============================] - ETA: 0s - loss: 0.2951 - accuracy: 0.9337 - precision: 0.9208 - recall: 0.8765 - auc: 0.9816 - f1_score: 0.8292\n",
            "Epoch 37: ReduceLROnPlateau reducing learning rate to 6.24999984211172e-06.\n"
          ]
        },
        {
          "output_type": "stream",
          "name": "stderr",
          "text": [
            "WARNING:absl:Found untraced functions such as _jit_compiled_convolution_op, _jit_compiled_convolution_op, _jit_compiled_convolution_op, _jit_compiled_convolution_op, _jit_compiled_convolution_op while saving (showing 5 of 13). These functions will not be directly callable after loading.\n"
          ]
        },
        {
          "output_type": "stream",
          "name": "stdout",
          "text": [
            "\b\b\b\b\b\b\b\b\b\b\b\b\b\b\b\b\b\b\b\b\b\b\b\b\b\b\b\b\b\b\b\b\b\b\b\b\b\b\b\b\b\b\b\b\b\b\b\b\b\b\b\b\b\b\b\b\b\b\b\b\b\b\b\b\b\b\b\b\b\b\b\b\b\b\b\b\b\b\b\b\b\b\b\b\b\b\b\b\b\b\b\b\b\b\b\b\b\b\b\b\b\b\b\b\b\b\b\b\b\b\b\b\b\b\b\b\b\b\b\b\b\b\b\b\b\b\b\b\b\b\b\b\b\b\b\b\b\b\b\b\b\b\b\b\b\b\b\b\b\b\b\b\r13/13 [==============================] - 18s 1s/step - loss: 0.2951 - accuracy: 0.9337 - precision: 0.9208 - recall: 0.8765 - auc: 0.9816 - f1_score: 0.8292 - val_loss: 0.3236 - val_accuracy: 0.8910 - val_precision: 0.8600 - val_recall: 0.8037 - val_auc: 0.9671 - val_f1_score: 0.8369 - lr: 1.2500e-05\n",
            "Epoch 38/50\n",
            "13/13 [==============================] - ETA: 0s - loss: 0.2867 - accuracy: 0.9363 - precision: 0.9368 - recall: 0.8674 - auc: 0.9850 - f1_score: 0.8315"
          ]
        },
        {
          "output_type": "stream",
          "name": "stderr",
          "text": [
            "WARNING:absl:Found untraced functions such as _jit_compiled_convolution_op, _jit_compiled_convolution_op, _jit_compiled_convolution_op, _jit_compiled_convolution_op, _jit_compiled_convolution_op while saving (showing 5 of 13). These functions will not be directly callable after loading.\n"
          ]
        },
        {
          "output_type": "stream",
          "name": "stdout",
          "text": [
            "\b\b\b\b\b\b\b\b\b\b\b\b\b\b\b\b\b\b\b\b\b\b\b\b\b\b\b\b\b\b\b\b\b\b\b\b\b\b\b\b\b\b\b\b\b\b\b\b\b\b\b\b\b\b\b\b\b\b\b\b\b\b\b\b\b\b\b\b\b\b\b\b\b\b\b\b\b\b\b\b\b\b\b\b\b\b\b\b\b\b\b\b\b\b\b\b\b\b\b\b\b\b\b\b\b\b\b\b\b\b\b\b\b\b\b\b\b\b\b\b\b\b\b\b\b\b\b\b\b\b\b\b\b\b\b\b\b\b\b\b\b\b\b\b\b\b\b\b\b\b\b\b\r13/13 [==============================] - 18s 1s/step - loss: 0.2867 - accuracy: 0.9363 - precision: 0.9368 - recall: 0.8674 - auc: 0.9850 - f1_score: 0.8315 - val_loss: 0.3328 - val_accuracy: 0.9439 - val_precision: 0.9238 - val_recall: 0.9065 - val_auc: 0.9608 - val_f1_score: 0.9101 - lr: 6.2500e-06\n",
            "Epoch 39/50\n",
            "13/13 [==============================] - ETA: 0s - loss: 0.2905 - accuracy: 0.9389 - precision: 0.9290 - recall: 0.8843 - auc: 0.9824 - f1_score: 0.8368"
          ]
        },
        {
          "output_type": "stream",
          "name": "stderr",
          "text": [
            "WARNING:absl:Found untraced functions such as _jit_compiled_convolution_op, _jit_compiled_convolution_op, _jit_compiled_convolution_op, _jit_compiled_convolution_op, _jit_compiled_convolution_op while saving (showing 5 of 13). These functions will not be directly callable after loading.\n"
          ]
        },
        {
          "output_type": "stream",
          "name": "stdout",
          "text": [
            "\b\b\b\b\b\b\b\b\b\b\b\b\b\b\b\b\b\b\b\b\b\b\b\b\b\b\b\b\b\b\b\b\b\b\b\b\b\b\b\b\b\b\b\b\b\b\b\b\b\b\b\b\b\b\b\b\b\b\b\b\b\b\b\b\b\b\b\b\b\b\b\b\b\b\b\b\b\b\b\b\b\b\b\b\b\b\b\b\b\b\b\b\b\b\b\b\b\b\b\b\b\b\b\b\b\b\b\b\b\b\b\b\b\b\b\b\b\b\b\b\b\b\b\b\b\b\b\b\b\b\b\b\b\b\b\b\b\b\b\b\b\b\b\b\b\b\b\b\b\b\b\b\r13/13 [==============================] - 18s 1s/step - loss: 0.2905 - accuracy: 0.9389 - precision: 0.9290 - recall: 0.8843 - auc: 0.9824 - f1_score: 0.8368 - val_loss: 0.3107 - val_accuracy: 0.9439 - val_precision: 0.9159 - val_recall: 0.9159 - val_auc: 0.9750 - val_f1_score: 0.9144 - lr: 6.2500e-06\n",
            "Epoch 40/50\n",
            "13/13 [==============================] - ETA: 0s - loss: 0.2859 - accuracy: 0.9380 - precision: 0.9288 - recall: 0.8817 - auc: 0.9832 - f1_score: 0.8354"
          ]
        },
        {
          "output_type": "stream",
          "name": "stderr",
          "text": [
            "WARNING:absl:Found untraced functions such as _jit_compiled_convolution_op, _jit_compiled_convolution_op, _jit_compiled_convolution_op, _jit_compiled_convolution_op, _jit_compiled_convolution_op while saving (showing 5 of 13). These functions will not be directly callable after loading.\n"
          ]
        },
        {
          "output_type": "stream",
          "name": "stdout",
          "text": [
            "\b\b\b\b\b\b\b\b\b\b\b\b\b\b\b\b\b\b\b\b\b\b\b\b\b\b\b\b\b\b\b\b\b\b\b\b\b\b\b\b\b\b\b\b\b\b\b\b\b\b\b\b\b\b\b\b\b\b\b\b\b\b\b\b\b\b\b\b\b\b\b\b\b\b\b\b\b\b\b\b\b\b\b\b\b\b\b\b\b\b\b\b\b\b\b\b\b\b\b\b\b\b\b\b\b\b\b\b\b\b\b\b\b\b\b\b\b\b\b\b\b\b\b\b\b\b\b\b\b\b\b\b\b\b\b\b\b\b\b\b\b\b\b\b\b\b\b\b\b\b\b\b\r13/13 [==============================] - 18s 2s/step - loss: 0.2859 - accuracy: 0.9380 - precision: 0.9288 - recall: 0.8817 - auc: 0.9832 - f1_score: 0.8354 - val_loss: 0.3275 - val_accuracy: 0.9377 - val_precision: 0.9065 - val_recall: 0.9065 - val_auc: 0.9579 - val_f1_score: 0.9142 - lr: 6.2500e-06\n",
            "Epoch 41/50\n",
            "13/13 [==============================] - ETA: 0s - loss: 0.2826 - accuracy: 0.9406 - precision: 0.9293 - recall: 0.8895 - auc: 0.9840 - f1_score: 0.8393"
          ]
        },
        {
          "output_type": "stream",
          "name": "stderr",
          "text": [
            "WARNING:absl:Found untraced functions such as _jit_compiled_convolution_op, _jit_compiled_convolution_op, _jit_compiled_convolution_op, _jit_compiled_convolution_op, _jit_compiled_convolution_op while saving (showing 5 of 13). These functions will not be directly callable after loading.\n"
          ]
        },
        {
          "output_type": "stream",
          "name": "stdout",
          "text": [
            "\b\b\b\b\b\b\b\b\b\b\b\b\b\b\b\b\b\b\b\b\b\b\b\b\b\b\b\b\b\b\b\b\b\b\b\b\b\b\b\b\b\b\b\b\b\b\b\b\b\b\b\b\b\b\b\b\b\b\b\b\b\b\b\b\b\b\b\b\b\b\b\b\b\b\b\b\b\b\b\b\b\b\b\b\b\b\b\b\b\b\b\b\b\b\b\b\b\b\b\b\b\b\b\b\b\b\b\b\b\b\b\b\b\b\b\b\b\b\b\b\b\b\b\b\b\b\b\b\b\b\b\b\b\b\b\b\b\b\b\b\b\b\b\b\b\b\b\b\b\b\b\b\r13/13 [==============================] - 18s 1s/step - loss: 0.2826 - accuracy: 0.9406 - precision: 0.9293 - recall: 0.8895 - auc: 0.9840 - f1_score: 0.8393 - val_loss: 0.3104 - val_accuracy: 0.9283 - val_precision: 0.9038 - val_recall: 0.8785 - val_auc: 0.9760 - val_f1_score: 0.8992 - lr: 6.2500e-06\n",
            "Epoch 42/50\n",
            "13/13 [==============================] - ETA: 0s - loss: 0.2825 - accuracy: 0.9384 - precision: 0.9312 - recall: 0.8804 - auc: 0.9845 - f1_score: 0.8357\n",
            "Epoch 42: ReduceLROnPlateau reducing learning rate to 3.12499992105586e-06.\n"
          ]
        },
        {
          "output_type": "stream",
          "name": "stderr",
          "text": [
            "WARNING:absl:Found untraced functions such as _jit_compiled_convolution_op, _jit_compiled_convolution_op, _jit_compiled_convolution_op, _jit_compiled_convolution_op, _jit_compiled_convolution_op while saving (showing 5 of 13). These functions will not be directly callable after loading.\n"
          ]
        },
        {
          "output_type": "stream",
          "name": "stdout",
          "text": [
            "\b\b\b\b\b\b\b\b\b\b\b\b\b\b\b\b\b\b\b\b\b\b\b\b\b\b\b\b\b\b\b\b\b\b\b\b\b\b\b\b\b\b\b\b\b\b\b\b\b\b\b\b\b\b\b\b\b\b\b\b\b\b\b\b\b\b\b\b\b\b\b\b\b\b\b\b\b\b\b\b\b\b\b\b\b\b\b\b\b\b\b\b\b\b\b\b\b\b\b\b\b\b\b\b\b\b\b\b\b\b\b\b\b\b\b\b\b\b\b\b\b\b\b\b\b\b\b\b\b\b\b\b\b\b\b\b\b\b\b\b\b\b\b\b\b\b\b\b\b\b\b\b\r13/13 [==============================] - 18s 1s/step - loss: 0.2825 - accuracy: 0.9384 - precision: 0.9312 - recall: 0.8804 - auc: 0.9845 - f1_score: 0.8357 - val_loss: 0.3580 - val_accuracy: 0.9283 - val_precision: 0.9038 - val_recall: 0.8785 - val_auc: 0.9483 - val_f1_score: 0.8838 - lr: 6.2500e-06\n",
            "Epoch 43/50\n",
            "12/13 [==========================>...] - ETA: 1s - loss: 0.2775 - accuracy: 0.9353 - precision: 0.9199 - recall: 0.8828 - auc: 0.9860 - f1_score: 0.9010"
          ]
        },
        {
          "output_type": "stream",
          "name": "stderr",
          "text": [
            "WARNING:absl:Found untraced functions such as _jit_compiled_convolution_op, _jit_compiled_convolution_op, _jit_compiled_convolution_op, _jit_compiled_convolution_op, _jit_compiled_convolution_op while saving (showing 5 of 13). These functions will not be directly callable after loading.\n"
          ]
        },
        {
          "output_type": "stream",
          "name": "stdout",
          "text": [
            "\b\b\b\b\b\b\b\b\b\b\b\b\b\b\b\b\b\b\b\b\b\b\b\b\b\b\b\b\b\b\b\b\b\b\b\b\b\b\b\b\b\b\b\b\b\b\b\b\b\b\b\b\b\b\b\b\b\b\b\b\b\b\b\b\b\b\b\b\b\b\b\b\b\b\b\b\b\b\b\b\b\b\b\b\b\b\b\b\b\b\b\b\b\b\b\b\b\b\b\b\b\b\b\b\b\b\b\b\b\b\b\b\b\b\b\b\b\b\b\b\b\b\b\b\b\b\b\b\b\b\b\b\b\b\b\b\b\b\b\b\b\b\b\b\b\b\b\b\b\b\b\b\r13/13 [==============================] - 18s 1s/step - loss: 0.2785 - accuracy: 0.9350 - precision: 0.9199 - recall: 0.8817 - auc: 0.9858 - f1_score: 0.8317 - val_loss: 0.3092 - val_accuracy: 0.9439 - val_precision: 0.9159 - val_recall: 0.9159 - val_auc: 0.9742 - val_f1_score: 0.9182 - lr: 3.1250e-06\n",
            "Epoch 44/50\n",
            "13/13 [==============================] - ETA: 0s - loss: 0.2934 - accuracy: 0.9350 - precision: 0.9269 - recall: 0.8739 - auc: 0.9825 - f1_score: 0.8307"
          ]
        },
        {
          "output_type": "stream",
          "name": "stderr",
          "text": [
            "WARNING:absl:Found untraced functions such as _jit_compiled_convolution_op, _jit_compiled_convolution_op, _jit_compiled_convolution_op, _jit_compiled_convolution_op, _jit_compiled_convolution_op while saving (showing 5 of 13). These functions will not be directly callable after loading.\n"
          ]
        },
        {
          "output_type": "stream",
          "name": "stdout",
          "text": [
            "\b\b\b\b\b\b\b\b\b\b\b\b\b\b\b\b\b\b\b\b\b\b\b\b\b\b\b\b\b\b\b\b\b\b\b\b\b\b\b\b\b\b\b\b\b\b\b\b\b\b\b\b\b\b\b\b\b\b\b\b\b\b\b\b\b\b\b\b\b\b\b\b\b\b\b\b\b\b\b\b\b\b\b\b\b\b\b\b\b\b\b\b\b\b\b\b\b\b\b\b\b\b\b\b\b\b\b\b\b\b\b\b\b\b\b\b\b\b\b\b\b\b\b\b\b\b\b\b\b\b\b\b\b\b\b\b\b\b\b\b\b\b\b\b\b\b\b\b\b\b\b\b\r13/13 [==============================] - 18s 1s/step - loss: 0.2934 - accuracy: 0.9350 - precision: 0.9269 - recall: 0.8739 - auc: 0.9825 - f1_score: 0.8307 - val_loss: 0.3074 - val_accuracy: 0.9470 - val_precision: 0.9245 - val_recall: 0.9159 - val_auc: 0.9735 - val_f1_score: 0.9256 - lr: 3.1250e-06\n",
            "Epoch 45/50\n",
            "13/13 [==============================] - ETA: 0s - loss: 0.2778 - accuracy: 0.9415 - precision: 0.9331 - recall: 0.8882 - auc: 0.9855 - f1_score: 0.8405"
          ]
        },
        {
          "output_type": "stream",
          "name": "stderr",
          "text": [
            "WARNING:absl:Found untraced functions such as _jit_compiled_convolution_op, _jit_compiled_convolution_op, _jit_compiled_convolution_op, _jit_compiled_convolution_op, _jit_compiled_convolution_op while saving (showing 5 of 13). These functions will not be directly callable after loading.\n"
          ]
        },
        {
          "output_type": "stream",
          "name": "stdout",
          "text": [
            "\b\b\b\b\b\b\b\b\b\b\b\b\b\b\b\b\b\b\b\b\b\b\b\b\b\b\b\b\b\b\b\b\b\b\b\b\b\b\b\b\b\b\b\b\b\b\b\b\b\b\b\b\b\b\b\b\b\b\b\b\b\b\b\b\b\b\b\b\b\b\b\b\b\b\b\b\b\b\b\b\b\b\b\b\b\b\b\b\b\b\b\b\b\b\b\b\b\b\b\b\b\b\b\b\b\b\b\b\b\b\b\b\b\b\b\b\b\b\b\b\b\b\b\b\b\b\b\b\b\b\b\b\b\b\b\b\b\b\b\b\b\b\b\b\b\b\b\b\b\b\b\b\r13/13 [==============================] - 18s 1s/step - loss: 0.2778 - accuracy: 0.9415 - precision: 0.9331 - recall: 0.8882 - auc: 0.9855 - f1_score: 0.8405 - val_loss: 0.3150 - val_accuracy: 0.9315 - val_precision: 0.9048 - val_recall: 0.8879 - val_auc: 0.9747 - val_f1_score: 0.8998 - lr: 3.1250e-06\n",
            "Epoch 46/50\n",
            "13/13 [==============================] - ETA: 0s - loss: 0.2935 - accuracy: 0.9363 - precision: 0.9284 - recall: 0.8765 - auc: 0.9828 - f1_score: 0.8327"
          ]
        },
        {
          "output_type": "stream",
          "name": "stderr",
          "text": [
            "WARNING:absl:Found untraced functions such as _jit_compiled_convolution_op, _jit_compiled_convolution_op, _jit_compiled_convolution_op, _jit_compiled_convolution_op, _jit_compiled_convolution_op while saving (showing 5 of 13). These functions will not be directly callable after loading.\n"
          ]
        },
        {
          "output_type": "stream",
          "name": "stdout",
          "text": [
            "\b\b\b\b\b\b\b\b\b\b\b\b\b\b\b\b\b\b\b\b\b\b\b\b\b\b\b\b\b\b\b\b\b\b\b\b\b\b\b\b\b\b\b\b\b\b\b\b\b\b\b\b\b\b\b\b\b\b\b\b\b\b\b\b\b\b\b\b\b\b\b\b\b\b\b\b\b\b\b\b\b\b\b\b\b\b\b\b\b\b\b\b\b\b\b\b\b\b\b\b\b\b\b\b\b\b\b\b\b\b\b\b\b\b\b\b\b\b\b\b\b\b\b\b\b\b\b\b\b\b\b\b\b\b\b\b\b\b\b\b\b\b\b\b\b\b\b\b\b\b\b\b\r13/13 [==============================] - 18s 1s/step - loss: 0.2935 - accuracy: 0.9363 - precision: 0.9284 - recall: 0.8765 - auc: 0.9828 - f1_score: 0.8327 - val_loss: 0.3118 - val_accuracy: 0.9439 - val_precision: 0.9159 - val_recall: 0.9159 - val_auc: 0.9725 - val_f1_score: 0.9106 - lr: 3.1250e-06\n",
            "Epoch 47/50\n",
            "13/13 [==============================] - ETA: 0s - loss: 0.2801 - accuracy: 0.9406 - precision: 0.9305 - recall: 0.8882 - auc: 0.9855 - f1_score: 0.8393\n",
            "Epoch 47: ReduceLROnPlateau reducing learning rate to 1.56249996052793e-06.\n"
          ]
        },
        {
          "output_type": "stream",
          "name": "stderr",
          "text": [
            "WARNING:absl:Found untraced functions such as _jit_compiled_convolution_op, _jit_compiled_convolution_op, _jit_compiled_convolution_op, _jit_compiled_convolution_op, _jit_compiled_convolution_op while saving (showing 5 of 13). These functions will not be directly callable after loading.\n"
          ]
        },
        {
          "output_type": "stream",
          "name": "stdout",
          "text": [
            "\b\b\b\b\b\b\b\b\b\b\b\b\b\b\b\b\b\b\b\b\b\b\b\b\b\b\b\b\b\b\b\b\b\b\b\b\b\b\b\b\b\b\b\b\b\b\b\b\b\b\b\b\b\b\b\b\b\b\b\b\b\b\b\b\b\b\b\b\b\b\b\b\b\b\b\b\b\b\b\b\b\b\b\b\b\b\b\b\b\b\b\b\b\b\b\b\b\b\b\b\b\b\b\b\b\b\b\b\b\b\b\b\b\b\b\b\b\b\b\b\b\b\b\b\b\b\b\b\b\b\b\b\b\b\b\b\b\b\b\b\b\b\b\b\b\b\b\b\b\b\b\b\r13/13 [==============================] - 18s 1s/step - loss: 0.2801 - accuracy: 0.9406 - precision: 0.9305 - recall: 0.8882 - auc: 0.9855 - f1_score: 0.8393 - val_loss: 0.3034 - val_accuracy: 0.9439 - val_precision: 0.9159 - val_recall: 0.9159 - val_auc: 0.9739 - val_f1_score: 0.9182 - lr: 3.1250e-06\n",
            "Epoch 48/50\n",
            "13/13 [==============================] - ETA: 0s - loss: 0.2846 - accuracy: 0.9397 - precision: 0.9339 - recall: 0.8817 - auc: 0.9844 - f1_score: 0.8377"
          ]
        },
        {
          "output_type": "stream",
          "name": "stderr",
          "text": [
            "WARNING:absl:Found untraced functions such as _jit_compiled_convolution_op, _jit_compiled_convolution_op, _jit_compiled_convolution_op, _jit_compiled_convolution_op, _jit_compiled_convolution_op while saving (showing 5 of 13). These functions will not be directly callable after loading.\n"
          ]
        },
        {
          "output_type": "stream",
          "name": "stdout",
          "text": [
            "\b\b\b\b\b\b\b\b\b\b\b\b\b\b\b\b\b\b\b\b\b\b\b\b\b\b\b\b\b\b\b\b\b\b\b\b\b\b\b\b\b\b\b\b\b\b\b\b\b\b\b\b\b\b\b\b\b\b\b\b\b\b\b\b\b\b\b\b\b\b\b\b\b\b\b\b\b\b\b\b\b\b\b\b\b\b\b\b\b\b\b\b\b\b\b\b\b\b\b\b\b\b\b\b\b\b\b\b\b\b\b\b\b\b\b\b\b\b\b\b\b\b\b\b\b\b\b\b\b\b\b\b\b\b\b\b\b\b\b\b\b\b\b\b\b\b\b\b\b\b\b\b\r13/13 [==============================] - 18s 1s/step - loss: 0.2846 - accuracy: 0.9397 - precision: 0.9339 - recall: 0.8817 - auc: 0.9844 - f1_score: 0.8377 - val_loss: 0.3065 - val_accuracy: 0.9408 - val_precision: 0.9151 - val_recall: 0.9065 - val_auc: 0.9745 - val_f1_score: 0.9139 - lr: 1.5625e-06\n",
            "Epoch 49/50\n",
            "13/13 [==============================] - ETA: 0s - loss: 0.2685 - accuracy: 0.9384 - precision: 0.9300 - recall: 0.8817 - auc: 0.9879 - f1_score: 0.8360"
          ]
        },
        {
          "output_type": "stream",
          "name": "stderr",
          "text": [
            "WARNING:absl:Found untraced functions such as _jit_compiled_convolution_op, _jit_compiled_convolution_op, _jit_compiled_convolution_op, _jit_compiled_convolution_op, _jit_compiled_convolution_op while saving (showing 5 of 13). These functions will not be directly callable after loading.\n"
          ]
        },
        {
          "output_type": "stream",
          "name": "stdout",
          "text": [
            "\b\b\b\b\b\b\b\b\b\b\b\b\b\b\b\b\b\b\b\b\b\b\b\b\b\b\b\b\b\b\b\b\b\b\b\b\b\b\b\b\b\b\b\b\b\b\b\b\b\b\b\b\b\b\b\b\b\b\b\b\b\b\b\b\b\b\b\b\b\b\b\b\b\b\b\b\b\b\b\b\b\b\b\b\b\b\b\b\b\b\b\b\b\b\b\b\b\b\b\b\b\b\b\b\b\b\b\b\b\b\b\b\b\b\b\b\b\b\b\b\b\b\b\b\b\b\b\b\b\b\b\b\b\b\b\b\b\b\b\b\b\b\b\b\b\b\b\b\b\b\b\b\r13/13 [==============================] - 18s 1s/step - loss: 0.2685 - accuracy: 0.9384 - precision: 0.9300 - recall: 0.8817 - auc: 0.9879 - f1_score: 0.8360 - val_loss: 0.3159 - val_accuracy: 0.9377 - val_precision: 0.9065 - val_recall: 0.9065 - val_auc: 0.9741 - val_f1_score: 0.8990 - lr: 1.5625e-06\n",
            "Epoch 50/50\n",
            "13/13 [==============================] - ETA: 0s - loss: 0.2686 - accuracy: 0.9432 - precision: 0.9346 - recall: 0.8921 - auc: 0.9868 - f1_score: 0.8429"
          ]
        },
        {
          "output_type": "stream",
          "name": "stderr",
          "text": [
            "WARNING:absl:Found untraced functions such as _jit_compiled_convolution_op, _jit_compiled_convolution_op, _jit_compiled_convolution_op, _jit_compiled_convolution_op, _jit_compiled_convolution_op while saving (showing 5 of 13). These functions will not be directly callable after loading.\n"
          ]
        },
        {
          "output_type": "stream",
          "name": "stdout",
          "text": [
            "\b\b\b\b\b\b\b\b\b\b\b\b\b\b\b\b\b\b\b\b\b\b\b\b\b\b\b\b\b\b\b\b\b\b\b\b\b\b\b\b\b\b\b\b\b\b\b\b\b\b\b\b\b\b\b\b\b\b\b\b\b\b\b\b\b\b\b\b\b\b\b\b\b\b\b\b\b\b\b\b\b\b\b\b\b\b\b\b\b\b\b\b\b\b\b\b\b\b\b\b\b\b\b\b\b\b\b\b\b\b\b\b\b\b\b\b\b\b\b\b\b\b\b\b\b\b\b\b\b\b\b\b\b\b\b\b\b\b\b\b\b\b\b\b\b\b\b\b\b\b\b\b\r13/13 [==============================] - 18s 1s/step - loss: 0.2686 - accuracy: 0.9432 - precision: 0.9346 - recall: 0.8921 - auc: 0.9868 - f1_score: 0.8429 - val_loss: 0.3141 - val_accuracy: 0.9408 - val_precision: 0.9151 - val_recall: 0.9065 - val_auc: 0.9731 - val_f1_score: 0.9102 - lr: 1.5625e-06\n"
          ]
        }
      ],
      "source": [
        "history16 = VGG16_model.fit(train_d,validation_data=valid_d,epochs = 50,verbose = 1,callbacks=[lrd,mcp])"
      ]
    },
    {
      "cell_type": "code",
      "execution_count": null,
      "metadata": {
        "colab": {
          "base_uri": "https://localhost:8080/"
        },
        "id": "nagA_T-1LDsP",
        "outputId": "50ad91e4-7d03-4230-dbb5-f0e175c1af9e"
      },
      "outputs": [
        {
          "output_type": "stream",
          "name": "stdout",
          "text": [
            "4/4 [==============================] - 36s 12s/step - loss: 0.4781 - accuracy: 0.8778 - precision: 0.8333 - recall: 0.7919 - auc: 0.9432 - f1_score: 0.7971\n"
          ]
        },
        {
          "output_type": "execute_result",
          "data": {
            "text/plain": [
              "[0.47811219096183777,\n",
              " 0.877828061580658,\n",
              " 0.8333333134651184,\n",
              " 0.7918552160263062,\n",
              " 0.9431828856468201,\n",
              " 0.797095000743866]"
            ]
          },
          "metadata": {},
          "execution_count": 87
        }
      ],
      "source": [
        "VGG16_model.evaluate(test_d, verbose=1)"
      ]
    },
    {
      "cell_type": "code",
      "execution_count": null,
      "metadata": {
        "id": "0WyLNrvkzIPV"
      },
      "outputs": [],
      "source": [
        "VGG16_model.save('VGG16_new.h5')"
      ]
    },
    {
      "cell_type": "code",
      "execution_count": null,
      "metadata": {
        "colab": {
          "base_uri": "https://localhost:8080/",
          "height": 370
        },
        "id": "-q_Qp7PYMthd",
        "outputId": "559f2ae7-bfec-4cef-f65c-f9f4c4785db1"
      },
      "outputs": [
        {
          "output_type": "display_data",
          "data": {
            "text/plain": [
              "<Figure size 792x360 with 2 Axes>"
            ],
            "image/png": "[encoded data removed]"
          },
          "metadata": {
            "needs_background": "light"
          }
        }
      ],
      "source": [
        "import matplotlib.pyplot as plt\n",
        "def Train_Val_Plot(acc,val_acc,loss,val_loss):\n",
        "    \n",
        "    fig, (ax1, ax2) = plt.subplots(1,2, figsize= (11,5))\n",
        "    fig.suptitle(\"VGG 16's Accuracy and Loss \")\n",
        "\n",
        "    ax1.plot(range(1, len(acc) + 1), acc)\n",
        "    ax1.plot(range(1, len(val_acc) + 1), val_acc)\n",
        "    ax1.set_title('History of Accuracy')\n",
        "    ax1.set_xlabel('Epochs')\n",
        "    ax1.set_ylabel('Accuracy')\n",
        "    ax1.legend(['training', 'validation'])\n",
        "\n",
        "\n",
        "    ax2.plot(range(1, len(loss) + 1), loss)\n",
        "    ax2.plot(range(1, len(val_loss) + 1), val_loss)\n",
        "    ax2.set_title('History of Loss')\n",
        "    ax2.set_xlabel('Epochs')\n",
        "    ax2.set_ylabel('Loss')\n",
        "    ax2.legend(['training', 'validation'])\n",
        "\n",
        "    plt.show()\n",
        "    \n",
        "\n",
        "Train_Val_Plot(history16.history['accuracy'],history16.history['val_accuracy'],\n",
        "               history16.history['loss'],history16.history['val_loss'],\n",
        "               )"
      ]
    },
    {
      "cell_type": "markdown",
      "metadata": {
        "id": "QdHa1qhW5SHZ"
      },
      "source": [
        "# Test"
      ]
    },
    {
      "cell_type": "markdown",
      "metadata": {
        "id": "z_TP1Qw1odio"
      },
      "source": [
        "**Test Example**"
      ]
    },
    {
      "cell_type": "code",
      "execution_count": null,
      "metadata": {
        "colab": {
          "base_uri": "https://localhost:8080/"
        },
        "id": "UemXNgCgj60V",
        "outputId": "4124c686-07cf-49fd-dc5f-566c10e4f081"
      },
      "outputs": [
        {
          "name": "stdout",
          "output_type": "stream",
          "text": [
            "Malignant case (490).jpg\n",
            "/content/drive/MyDrive/lung_cancer_dataset/test/malignant/Malignant case (490).jpg\n"
          ]
        }
      ],
      "source": [
        "#randomly choose a image from test group\n",
        "import random\n",
        "import os\n",
        "\n",
        "path = '/content/drive/MyDrive/lung_cancer_dataset/test/malignant'\n",
        "random_filename = random.choice([\n",
        "    x for x in os.listdir(path)\n",
        "    if os.path.isfile(os.path.join(path, x))\n",
        "])\n",
        "file_path = '/content/drive/MyDrive/lung_cancer_dataset/test/malignant/'+random_filename\n",
        "print(random_filename)\n",
        "print(file_path)"
      ]
    },
    {
      "cell_type": "code",
      "execution_count": null,
      "metadata": {
        "colab": {
          "base_uri": "https://localhost:8080/"
        },
        "id": "3fAalOkNB531",
        "outputId": "e7866530-16e5-4a21-8b29-292bfbbeaeff"
      },
      "outputs": [
        {
          "name": "stdout",
          "output_type": "stream",
          "text": [
            "(512, 512, 3)\n",
            "(224, 224, 3)\n",
            "(1, 224, 224, 3)\n"
          ]
        }
      ],
      "source": [
        "import cv2\n",
        "img=cv2.imread (file_path)\n",
        "img=img/255\n",
        "print(img.shape)\n",
        "img=cv2.resize(img, (224,224))\n",
        "print(img.shape)\n",
        "img=np.expand_dims(img, axis=0)\n",
        "print(img.shape)"
      ]
    },
    {
      "cell_type": "code",
      "execution_count": null,
      "metadata": {
        "colab": {
          "base_uri": "https://localhost:8080/"
        },
        "id": "EVwHp5pNAjZP",
        "outputId": "380da409-7e85-470b-8488-0a7566a9a252"
      },
      "outputs": [
        {
          "name": "stdout",
          "output_type": "stream",
          "text": [
            "WARNING:tensorflow:5 out of the last 5 calls to <function Model.make_predict_function.<locals>.predict_function at 0x7f8d8a212950> triggered tf.function retracing. Tracing is expensive and the excessive number of tracings could be due to (1) creating @tf.function repeatedly in a loop, (2) passing tensors with different shapes, (3) passing Python objects instead of tensors. For (1), please define your @tf.function outside of the loop. For (2), @tf.function has experimental_relax_shapes=True option that relaxes argument shapes that can avoid unnecessary retracing. For (3), please refer to https://www.tensorflow.org/guide/function#controlling_retracing and https://www.tensorflow.org/api_docs/python/tf/function for  more details.\n",
            "[[0.05966134 0.9159393  0.02439939]]\n"
          ]
        }
      ],
      "source": [
        "#cite:https://pythonprogramming.net/using-trained-model-deep-learning-python-tensorflow-keras/\n",
        "model = tf.keras.models.load_model(\"VGG16_new.h5\",custom_objects={\"f1_score\": 1 })\n",
        "prediction = model.predict(img)\n",
        "print(prediction)"
      ]
    },
    {
      "cell_type": "markdown",
      "metadata": {
        "id": "WcnSmyZE5Vwj"
      },
      "source": [
        "# Chatbot & GUI"
      ]
    },
    {
      "cell_type": "code",
      "execution_count": null,
      "metadata": {
        "id": "Hd0n9yXI5cP7"
      },
      "outputs": [],
      "source": [
        "import io\n",
        "import os\n",
        "import cv2\n",
        "import PySimpleGUI as sg\n",
        "import nltk\n",
        "from nltk.chat.util import Chat, reflections\n",
        "from PIL import Image\n",
        "#cite:https://opensource.com/article/18/8/pysimplegui\n",
        "#cite:https://www.youtube.com/watch?v=-_z2RPAH0Qk\n",
        "\n",
        "def reflections(input):\n",
        "    if input == \"Direction\":\n",
        "      return \"Use Browse button to choose your image, and view it by Load button.\"\n",
        "    elif input == \"Suggestion\":\n",
        "      return \"Result may not be accurate, if you feel sick please visit a doctor.\"\n",
        "\n",
        "file_types = [(\"JPEG (*.jpg)\", \"*.jpg\"),\n",
        "              (\"All files (*.*)\", \"*.*\")]\n",
        "\n",
        "def main():\n",
        "    image_column = [\n",
        "        [\n",
        "            sg.Text(\"Image File(in jpg format)\"),\n",
        "            sg.Input(size=(25, 1), key=\"-FILE-\"),\n",
        "            sg.FileBrowse(file_types=file_types),\n",
        "            sg.Button(\"Load Image\"),\n",
        "            sg.Button(\"Result\")\n",
        "        ],\n",
        "        [sg.Text(\"Chance for Begin Malignant Normal\")],\n",
        "        [sg.Text(\"\",key='-RE-')],\n",
        "        [sg.Image(key=\"-IMAGE-\")],\n",
        "    ]\n",
        "\n",
        "    chat_column = [\n",
        "        [sg.Text(\"Ask Question!\")],\n",
        "        [sg.Text(\"Ex: Direction, Suggestion\")],\n",
        "        [\n",
        "            sg.Input(size=(25, 1), key=\"-INPUT-\"),\n",
        "            sg.Button(\"Send\")],\n",
        "        [sg.Text(\"\",key=\"-OUTPUT-\")]\n",
        "    ]\n",
        "\n",
        "    layout = [\n",
        "        [\n",
        "            sg.Column(chat_column),\n",
        "            sg.VSeperator(),\n",
        "            sg.Column(image_column)\n",
        "        ]\n",
        "    ]\n",
        "\n",
        "    window = sg.Window(\"Lung Cancer Diagnosis Application\", layout)\n",
        "\n",
        "    while True:\n",
        "        event, values = window.read()\n",
        "        if event == \"Exit\" or event == sg.WIN_CLOSED:\n",
        "            break\n",
        "        if event == \"Load Image\":\n",
        "            filename = values[\"-FILE-\"]\n",
        "            if os.path.exists(filename):\n",
        "                image = Image.open(values[\"-FILE-\"])\n",
        "                image.thumbnail((400, 400))\n",
        "                bio = io.BytesIO()\n",
        "                image.save(bio, format=\"PNG\")\n",
        "                window[\"-IMAGE-\"].update(data=bio.getvalue())\n",
        "        if event == \"Result\":\n",
        "            image = cv2.imread(values[\"-FILE-\"])\n",
        "            image = image/255\n",
        "            image = cv2.resize(image, (224,224))\n",
        "            image=np.expand_dims(image, axis=0)\n",
        "            model = tf.keras.models.load_model(\"VGG16_new.h5\",custom_objects={\"f1_score\": 1 })\n",
        "            prediction = model.predict(image)\n",
        "            list = ' '.join([str(elem) for elem in prediction])\n",
        "            window['-RE-'].update(value=list)\n",
        "        if event == \"Send\":\n",
        "            input_text = values['-INPUT-']\n",
        "            output_text = reflections(input_text)\n",
        "            window['-OUTPUT-'].update(output_text)\n",
        "    window.close()\n",
        "\n",
        "if __name__ == \"__main__\":\n",
        "    main()"
      ]
    }
  ],
  "metadata": {
    "accelerator": "GPU",
    "colab": {
      "collapsed_sections": [
        "HeydgIOS45VB",
        "MEql_rhI4_IO"
      ],
      "provenance": []
    },
    "kernelspec": {
      "display_name": "Python 3",
      "language": "python",
      "name": "python3"
    },
    "language_info": {
      "codemirror_mode": {
        "name": "ipython",
        "version": 3
      },
      "file_extension": ".py",
      "mimetype": "text/x-python",
      "name": "python",
      "nbconvert_exporter": "python",
      "pygments_lexer": "ipython3",
      "version": "3.8.8"
    },
    "gpuClass": "premium"
  },
  "nbformat": 4,
  "nbformat_minor": 0
}